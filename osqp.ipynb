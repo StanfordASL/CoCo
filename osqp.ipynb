{
 "cells": [
  {
   "cell_type": "code",
   "execution_count": 71,
   "metadata": {},
   "outputs": [
    {
     "name": "stdout",
     "output_type": "stream",
     "text": [
      "The autoreload extension is already loaded. To reload it, use:\n",
      "  %reload_ext autoreload\n"
     ]
    }
   ],
   "source": [
    "%load_ext autoreload\n",
    "%autoreload 2\n",
    "\n",
    "import osqp\n",
    "import numpy as np\n",
    "import cvxpy as cp\n",
    "\n",
    "import matplotlib.pyplot as plt\n",
    "\n",
    "from scipy import sparse\n",
    "\n",
    "from free_flyer.free_flyer import FreeFlyer\n",
    "from free_flyer.utils import *\n",
    "from free_flyer.osqp import OsqpSolver"
   ]
  },
  {
   "cell_type": "code",
   "execution_count": 72,
   "metadata": {},
   "outputs": [],
   "source": [
    "ft2m = 0.3048\n",
    "posmax = ft2m*np.array([12.,9.])\n",
    "\n",
    "in2m = 0.0254\n",
    "widths = 0.27\n",
    "inflate = 0.2\n",
    "\n",
    "max_box_size = widths + inflate + 0.1\n",
    "min_box_size = widths + inflate + 0.05\n",
    "box_buffer = 0.025\n",
    "border_size = 0.05\n",
    "\n",
    "prob_success_micp, prob_success_cp, prob_success_osqp = False, False, False"
   ]
  },
  {
   "cell_type": "code",
   "execution_count": 128,
   "metadata": {},
   "outputs": [
    {
     "data": {
      "text/plain": [
       "array([[1., 0., 0., 0.],\n",
       "       [0., 1., 0., 0.],\n",
       "       [0., 0., 2., 0.],\n",
       "       [0., 0., 0., 2.]])"
      ]
     },
     "execution_count": 128,
     "metadata": {},
     "output_type": "execute_result"
    }
   ],
   "source": [
    "prob = FreeFlyer()\n",
    "prob.Q"
   ]
  },
  {
   "cell_type": "code",
   "execution_count": 9,
   "metadata": {},
   "outputs": [],
   "source": [
    "obstacles = random_obs(prob.n_obs, prob.posmin, prob.posmax, border_size, box_buffer, min_box_size, max_box_size)\n",
    "x0 = findIC(obstacles, prob.posmin, prob.posmax, prob.velmin, prob.velmax)\n",
    "xg  = np.hstack((0.9*prob.posmax, np.zeros(prob.n)))\n",
    "\n",
    "p_dict = {}\n",
    "p_dict['x0'] = x0\n",
    "p_dict['xg'] = xg\n",
    "p_dict['obstacles'] = np.reshape(np.concatenate(obstacles, axis=0), (prob.n_obs,4)).T"
   ]
  },
  {
   "cell_type": "code",
   "execution_count": 194,
   "metadata": {},
   "outputs": [
    {
     "name": "stdout",
     "output_type": "stream",
     "text": [
      "Gurobi failed at 27\n",
      "Terminated after 27 steps\n"
     ]
    }
   ],
   "source": [
    "mpc_steps = 30\n",
    "\n",
    "obstacles = random_obs(prob.n_obs, prob.posmin, prob.posmax, border_size, box_buffer, min_box_size, max_box_size)\n",
    "x0 = findIC(obstacles, prob.posmin, prob.posmax, prob.velmin, prob.velmax)\n",
    "\n",
    "x0 = np.array([3.45766099, 2.319038  , 0.07564046, 0.10704452])\n",
    "x0 = np.array([1.0, 1.75, 0.0, 0.0])\n",
    "obstacles = [np.array([1.02973002, 1.64086839, 2.02422747, 2.64371869]),\n",
    " np.array([0.9140886 , 1.50496808, 1.02429705, 1.63335429]),\n",
    " np.array([2.77171056, 3.38319568, 1.85434365, 2.46014876]),\n",
    " np.array([2.00013685, 2.58634515, 1.70685483, 2.3153834 ]),\n",
    " np.array([0.21254897, 0.80080141, 1.94684917, 2.55200543]),\n",
    " np.array([2.56873257, 3.14185899, 1.04887716, 1.64513089]),\n",
    " np.array([0.876186  , 1.45858714, 0.33663042, 0.95024701]),\n",
    " np.array([0.06269455, 0.64719652, 0.7221137 , 1.29620343])]\n",
    "\n",
    "X_opts_micp = x0\n",
    "X_opts_osqp = x0\n",
    "osqp_prob = OsqpSolver(prob, verbose=False)\n",
    "\n",
    "for ii_mpc in range(mpc_steps):\n",
    "    p_dict = {}\n",
    "    p_dict['x0'] = x0\n",
    "    p_dict['xg'] = xg\n",
    "    p_dict['obstacles'] = np.reshape(np.concatenate(obstacles, axis=0), (prob.n_obs,4)).T\n",
    "\n",
    "    # Solve using Gurobi\n",
    "    prob_success_micp, cost_micp, solve_time_micp, optvals_micp = prob.solve_micp(p_dict, solver=cp.MOSEK)\n",
    "\n",
    "    if not prob_success_micp:\n",
    "        print('Gurobi failed at {}'.format(ii_mpc))\n",
    "        break\n",
    "\n",
    "    u0 = optvals_micp[1][:,0]\n",
    "    x0_new = prob.Ak @ x0 + prob.Bk @ u0\n",
    "    X_opts_micp = np.vstack((X_opts_micp, x0_new))\n",
    "\n",
    "    # Solve using OSQP controller\n",
    "    y_opt = optvals_micp[-1]\n",
    "    if ii_mpc == 0:\n",
    "        osqp_prob.setup_prob(p_dict, y_opt)\n",
    "    else:\n",
    "        osqp_prob.update_prob(p_dict, y_opt)\n",
    "\n",
    "    prob_success_osqp, optvals_osqp = osqp_prob.solve()\n",
    "    if not prob_success_osqp:\n",
    "        print('OSQP failed at {}'.format(ii_mpc))\n",
    "        break\n",
    "\n",
    "    u0 = optvals_osqp[1][:,0]\n",
    "    x0_new = prob.Ak @ x0 + prob.Bk @ u0\n",
    "    X_opts_osqp = np.vstack((X_opts_osqp, x0_new))\n",
    "\n",
    "    # Propagate state forward\n",
    "    x0 = x0_new\n",
    "print('Terminated after {} steps'.format(ii_mpc))\n",
    "    \n",
    "X_opts_micp = X_opts_micp.T\n",
    "X_opts_osqp = X_opts_osqp.T"
   ]
  },
  {
   "cell_type": "code",
   "execution_count": 190,
   "metadata": {},
   "outputs": [
    {
     "data": {
      "image/png": "[encoded data removed]",
      "text/plain": [
       "<Figure size 432x288 with 1 Axes>"
      ]
     },
     "metadata": {
      "needs_background": "light"
     },
     "output_type": "display_data"
    },
    {
     "data": {
      "text/plain": [
       "<Figure size 432x288 with 0 Axes>"
      ]
     },
     "metadata": {},
     "output_type": "display_data"
    }
   ],
   "source": [
    "plt.axes()\n",
    "for obstacle in obstacles:\n",
    "    rectangle = plt.Rectangle((obstacle[0], obstacle[2]), \\\n",
    "                              obstacle[1]-obstacle[0], obstacle[3]-obstacle[2], \\\n",
    "                             fc='red', ec='blue')\n",
    "    plt.gca().add_patch(rectangle)\n",
    "    plt.axis('scaled')\n",
    "\n",
    "if x0.size > 0:\n",
    "    circle = plt.Circle((x0[0],x0[1]), 0.04, fc='blue',ec=\"green\")\n",
    "plt.gca().add_patch(circle)    \n",
    "\n",
    "ax = plt.gca()\n",
    "ax.margins(0)\n",
    "ax.set(xlim=(prob.posmin[0],prob.posmax[0]), ylim=(prob.posmin[1],prob.posmax[1]))\n",
    "\n",
    "plt.plot(X_opts_micp[0,:], X_opts_micp[1,:], label='MICP', linestyle='--')\n",
    "plt.plot(X_opts_osqp[0,:], X_opts_osqp[1,:],  label='OSQP', linestyle='-.')\n",
    "\n",
    "circle = plt.Circle((x0[0],x0[1]), 0.04, fc='blue',ec=\"green\")\n",
    "plt.gca().add_patch(circle)\n",
    "\n",
    "circle = plt.Circle((xg[0],xg[1]), 0.04, fc='blue',ec=\"green\")\n",
    "plt.gca().add_patch(circle)\n",
    "\n",
    "plt.legend()\n",
    "\n",
    "fig = plt.figure()\n",
    "plt.show()"
   ]
  },
  {
   "cell_type": "code",
   "execution_count": null,
   "metadata": {},
   "outputs": [],
   "source": []
  }
 ],
 "metadata": {
  "kernelspec": {
   "display_name": "mlopt",
   "language": "python",
   "name": "mlopt"
  },
  "language_info": {
   "codemirror_mode": {
    "name": "ipython",
    "version": 3
   },
   "file_extension": ".py",
   "mimetype": "text/x-python",
   "name": "python",
   "nbconvert_exporter": "python",
   "pygments_lexer": "ipython3",
   "version": "3.6.3"
  }
 },
 "nbformat": 4,
 "nbformat_minor": 2
}
