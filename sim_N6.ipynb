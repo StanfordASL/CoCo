{
 "cells": [
  {
   "cell_type": "code",
   "execution_count": 1,
   "id": "dd1f4c13-e846-4810-b572-83e8aaf728cf",
   "metadata": {},
   "outputs": [],
   "source": [
    "%load_ext autoreload\n",
    "%autoreload 2\n",
    "\n",
    "import matplotlib.pyplot as plt\n",
    "%matplotlib inline\n",
    "\n",
    "import torch\n",
    "from torch.autograd import Variable\n",
    "\n",
    "import numpy as np\n",
    "import cvxpy as cp\n",
    "\n",
    "from free_flyer.free_flyer import FreeFlyer\n",
    "from free_flyer.utils import *\n",
    "import pickle, os"
   ]
  },
  {
   "cell_type": "code",
   "execution_count": 2,
   "id": "392defeb-0d9b-4cc4-be06-3e300c63b3df",
   "metadata": {},
   "outputs": [],
   "source": [
    "#load train/test data\n",
    "config_fn = './free_flyer/config/default_hydra.p'\n",
    "prob = FreeFlyer(config_fn) #use default config, pass different config file oth.\n",
    "\n",
    "config_file = open(config_fn,'rb')\n",
    "dataset_name, _, _ = pickle.load(config_file); config_file.close()\n",
    "\n",
    "relative_path = os.getcwd()\n",
    "dataset_fn = relative_path + '/free_flyer/data/' + dataset_name\n",
    "\n",
    "train_file = open(dataset_fn+'/spaced_apart/train.p','rb')\n",
    "# p_train, x_train, u_train, y_train, c_train, times_train = pickle.load(train_file)\n",
    "train_data = pickle.load(train_file)\n",
    "train_file.close()\n",
    "x_train = train_data[1]\n",
    "y_train = train_data[3]\n",
    "\n",
    "test_file = open(dataset_fn+'/spaced_apart/test.p','rb')\n",
    "# p_test, x_test, u_test, y_test, c_test, times_test = pickle.load(test_file)\n",
    "test_data = pickle.load(test_file)\n",
    "p_test, x_test, u_test, y_test, c_test, times_test = test_data\n",
    "test_file.close()\n",
    "\n",
    "n_test = x_test.shape[0]"
   ]
  },
  {
   "cell_type": "code",
   "execution_count": 3,
   "id": "4314a1c4-9a48-4cf7-a532-01bbf1773f84",
   "metadata": {},
   "outputs": [],
   "source": [
    "prob = FreeFlyer(config_fn) #use default config, pass different config file oth."
   ]
  },
  {
   "cell_type": "code",
   "execution_count": 4,
   "id": "dd79145f-c950-48b4-9840-b6f43d0b2c7e",
   "metadata": {},
   "outputs": [
    {
     "name": "stdout",
     "output_type": "stream",
     "text": [
      "458\n"
     ]
    }
   ],
   "source": [
    "from solvers.coco_ff import CoCo_FF\n",
    "\n",
    "system = 'free_flyer'\n",
    "prob_features = ['x0', 'obstacles_map']\n",
    "\n",
    "max_evals = 1\n",
    "coco_obj = CoCo_FF(system, prob, prob_features)\n",
    "\n",
    "n_features = 4\n",
    "coco_obj.construct_strategies(n_features, train_data)\n",
    "print(coco_obj.n_strategies)"
   ]
  },
  {
   "cell_type": "code",
   "execution_count": 6,
   "id": "6970098d-0910-4ffe-9187-f38d8f5ab3cb",
   "metadata": {},
   "outputs": [],
   "source": [
    "coco_obj.problem.R = 1000.*np.eye(coco_obj.problem.m)\n",
    "coco_obj.problem.init_mlopt_problem()"
   ]
  },
  {
   "cell_type": "code",
   "execution_count": 7,
   "id": "31b04908-03a7-468e-97b9-d00b11322bb9",
   "metadata": {},
   "outputs": [
    {
     "data": {
      "text/plain": [
       "'/home/acauligi/CoCo/CoCoFF_free_flyer_20211005_1449.pt'"
      ]
     },
     "execution_count": 7,
     "metadata": {},
     "output_type": "execute_result"
    }
   ],
   "source": [
    "coco_obj.setup_network(neurons=128)\n",
    "coco_obj.model_fn"
   ]
  },
  {
   "cell_type": "code",
   "execution_count": 8,
   "id": "0a03a2bb-e56e-437a-846d-b335c4c407a1",
   "metadata": {},
   "outputs": [
    {
     "name": "stdout",
     "output_type": "stream",
     "text": [
      "Loading presaved classifier model from models/CoCoFF_free_flyer_20210125_0808.pt\n"
     ]
    }
   ],
   "source": [
    "fn_saved = 'models/CoCoFF_free_flyer_20210125_0808.pt'\n",
    "coco_obj.load_network(fn_saved)"
   ]
  },
  {
   "cell_type": "code",
   "execution_count": 9,
   "id": "5301c2f5-d35f-45b4-9b7f-085513c576a5",
   "metadata": {},
   "outputs": [
    {
     "data": {
      "text/plain": [
       "CNNet(\n",
       "  (conv_activation): ReLU()\n",
       "  (ff_activation): ReLU()\n",
       "  (conv_layers): ModuleList(\n",
       "    (0): Conv2d(3, 16, kernel_size=(2, 2), stride=(2, 2))\n",
       "    (1): Conv2d(16, 16, kernel_size=(2, 2), stride=(2, 2))\n",
       "    (2): Conv2d(16, 16, kernel_size=(2, 2), stride=(2, 2))\n",
       "  )\n",
       "  (ff_layers): ModuleList(\n",
       "    (0): Linear(in_features=260, out_features=128, bias=True)\n",
       "    (1): Linear(in_features=128, out_features=128, bias=True)\n",
       "    (2): Linear(in_features=128, out_features=128, bias=True)\n",
       "    (3): Linear(in_features=128, out_features=458, bias=True)\n",
       "  )\n",
       ")"
      ]
     },
     "execution_count": 9,
     "metadata": {},
     "output_type": "execute_result"
    }
   ],
   "source": [
    "coco_obj.model"
   ]
  },
  {
   "cell_type": "code",
   "execution_count": null,
   "id": "1eda25d3-cb88-4f8d-b260-ca5c56bc0783",
   "metadata": {},
   "outputs": [],
   "source": [
    "# coco_obj.training_params['TRAINING_ITERATIONS'] = 1000\n",
    "# coco_obj.training_params['BATCH_SIZE'] = 128\n",
    "# coco_obj.training_params['TEST_BATCH_SIZE'] = 2000\n",
    "\n",
    "# coco_obj.train(train_data, summary_writer_fn=\"runs/sim_spaced_apart_128\", verbose=False)"
   ]
  },
  {
   "cell_type": "code",
   "execution_count": 19,
   "id": "faeab431-8d50-41cc-97ff-9afb570e2208",
   "metadata": {},
   "outputs": [],
   "source": [
    "# neuron_256_fn = '/home/acauligi/CoCo/CoCoFF_free_flyer_20210927_1513.pt'"
   ]
  },
  {
   "cell_type": "code",
   "execution_count": 10,
   "id": "adf03b86-db4f-4bfa-8bab-efb949464f1a",
   "metadata": {},
   "outputs": [
    {
     "name": "stdout",
     "output_type": "stream",
     "text": [
      "1\n"
     ]
    }
   ],
   "source": [
    "prob_params = {}\n",
    "idx = np.random.randint(test_data[1].shape[0])\n",
    "for k in p_test.keys():\n",
    "    prob_params[k] = p_test[k][idx]\n",
    "\n",
    "prob_success, cost, total_time, n_evals, optvals = coco_obj.forward(prob_params, solver=cp.GUROBI, max_evals=10)\n",
    "\n",
    "if prob_success:\n",
    "    print(n_evals)\n",
    "else:\n",
    "    print('Failed')"
   ]
  },
  {
   "cell_type": "code",
   "execution_count": 8,
   "id": "533d69e5-fa35-4160-90e2-11c663194de6",
   "metadata": {
    "tags": []
   },
   "outputs": [
    {
     "name": "stdout",
     "output_type": "stream",
     "text": [
      "0 / 10000\n",
      "Academic license - for non-commercial use only - expires 2022-07-05\n",
      "Using license file /home/acauligi/licenses/gurobi.lic\n"
     ]
    },
    {
     "name": "stderr",
     "output_type": "stream",
     "text": [
      "/home/acauligi/CoCo/coco/lib/python3.6/site-packages/cvxpy/problems/problem.py:1279: UserWarning: Solution may be inaccurate. Try another solver, adjusting the solver settings, or solve with verbose=True for more information.\n",
      "  \"Solution may be inaccurate. Try another solver, \"\n"
     ]
    },
    {
     "name": "stdout",
     "output_type": "stream",
     "text": [
      "2000 / 10000\n",
      "4000 / 10000\n",
      "6000 / 10000\n",
      "8000 / 10000\n"
     ]
    }
   ],
   "source": [
    "n_succ = 0\n",
    "count = 0\n",
    "gurobi_mlopt_fail = 0\n",
    "\n",
    "costs_coco = []\n",
    "total_time_coco = []\n",
    "num_solves_coco = []\n",
    "\n",
    "cost_ratios_coco = []\n",
    "costs_ip = []\n",
    "total_time_ip = []\n",
    "num_solves_ip = []\n",
    "\n",
    "import time\n",
    "t0 = time.time()\n",
    "for ii in range(n_test):\n",
    "    if ii % 2000 == 0:\n",
    "        print('{} / {}'.format(ii,n_test))\n",
    "        file = open('sim_N6.txt','w')\n",
    "        file.write(\"Done with {}/{} in {}s\".format(ii, n_test, time.time()-t0))\n",
    "        file.close()\n",
    "    prob_params = {}\n",
    "    for k in p_test.keys():\n",
    "        prob_params[k] = p_test[k][ii]\n",
    "\n",
    "    try:\n",
    "        prob_success, cost, total_time, n_evals, optvals = coco_obj.forward(prob_params, max_evals=max_evals, solver=cp.GUROBI)\n",
    "\n",
    "        if prob_success:\n",
    "            n_succ += 1\n",
    "            costs_coco += [cost]\n",
    "            total_time_coco += [total_time]\n",
    "            num_solves_coco += [n_evals]\n",
    "\n",
    "            true_cost = c_test[ii]\n",
    "            costs_ip += [true_cost]\n",
    "            total_time_ip += [times_test[ii]]\n",
    "\n",
    "            cost_ratios_coco += [cost / true_cost]\n",
    "        count += 1\n",
    "    except (KeyboardInterrupt, SystemExit):\n",
    "        raise\n",
    "    except:\n",
    "#         print('Solver failed at {}'.format(ii))\n",
    "        gurobi_mlopt_fail += 1\n",
    "        continue\n",
    "\n",
    "costs_coco = np.array(costs_coco)\n",
    "cost_ratios_coco = np.array(cost_ratios_coco)\n",
    "total_time_coco = np.array(total_time_coco)\n",
    "num_solves_coco = np.array(num_solves_coco, dtype=int)\n",
    "\n",
    "costs_ip = np.array(costs_ip)\n",
    "total_time_ip = np.array(total_time_ip)\n",
    "num_solves_ip = np.array(num_solves_ip, dtype=int)\n",
    "\n",
    "coco_percentage = 100 * float(n_succ) / float(count)"
   ]
  },
  {
   "cell_type": "markdown",
   "id": "bb5c052f-46b1-4660-8da2-78601816ecc4",
   "metadata": {},
   "source": [
    "# Receding horizon planning\n",
    "Select one of the below cells for a particular parameter set"
   ]
  },
  {
   "cell_type": "code",
   "execution_count": 10,
   "id": "32b58022-e7db-4b1a-a0b8-fde22466547f",
   "metadata": {},
   "outputs": [],
   "source": [
    "rand_idx = 1930\n",
    "obstacles = p_test['obstacles'][rand_idx]\n",
    "x0, xg = p_test['x0'][rand_idx], p_test['xg'][rand_idx]\n",
    "x0 = np.array([1.0, 1.0, 0.0, 0.0])"
   ]
  },
  {
   "cell_type": "code",
   "execution_count": 538,
   "id": "8460de0f-e56f-4423-ba99-e455a8c265bb",
   "metadata": {},
   "outputs": [],
   "source": [
    "rand_idx = 6656\n",
    "obstacles = p_test['obstacles'][rand_idx]\n",
    "x0, xg = p_test['x0'][rand_idx], p_test['xg'][rand_idx]\n",
    "x0 = np.array([1., 0.2, 0.0, 0.0])"
   ]
  },
  {
   "cell_type": "code",
   "execution_count": 390,
   "id": "d8092a20-9279-4cc2-8790-4e705799ca14",
   "metadata": {},
   "outputs": [],
   "source": [
    "rand_idx = 9398\n",
    "obstacles = p_test['obstacles'][rand_idx]\n",
    "x0, xg = p_test['x0'][rand_idx], p_test['xg'][rand_idx]\n",
    "x0 = np.array([0.65, 1., 0.0, 0.0])"
   ]
  },
  {
   "cell_type": "code",
   "execution_count": 445,
   "id": "e8b315c7-a6a5-498d-b8cd-e7f3083c2b32",
   "metadata": {},
   "outputs": [],
   "source": [
    "rand_idx = 1558\n",
    "obstacles = p_test['obstacles'][rand_idx]\n",
    "x0, xg = p_test['x0'][rand_idx], p_test['xg'][rand_idx]\n",
    "x0 = np.array([1.7, 0.7, -0.15, 0.])"
   ]
  },
  {
   "cell_type": "code",
   "execution_count": null,
   "id": "6f637fb6-1308-4c83-ae56-dcb4806b222c",
   "metadata": {},
   "outputs": [],
   "source": [
    "rand_idx = 1558\n",
    "obstacles = p_test['obstacles'][rand_idx]\n",
    "x0, xg = p_test['x0'][rand_idx], p_test['xg'][rand_idx]\n",
    "x0 = np.array([2.5, 0.2, -0.15, 0.05])"
   ]
  },
  {
   "cell_type": "code",
   "execution_count": 479,
   "id": "57913289-b04d-4785-9165-804fbbde76c3",
   "metadata": {},
   "outputs": [],
   "source": [
    "rand_idx = 1450\n",
    "obstacles = p_test['obstacles'][rand_idx]\n",
    "x0, xg = p_test['x0'][rand_idx], p_test['xg'][rand_idx]\n",
    "x0 = np.array([0.5, 0.2, -0., 0.0])"
   ]
  },
  {
   "cell_type": "code",
   "execution_count": 533,
   "id": "de730077-6922-410b-98da-18ee9cf076a3",
   "metadata": {},
   "outputs": [],
   "source": [
    "rand_idx = 6793\n",
    "obstacles = p_test['obstacles'][rand_idx]\n",
    "x0, xg = p_test['x0'][rand_idx], p_test['xg'][rand_idx]\n",
    "x0 = np.array([0.5, 0.2, -0.1, -0.03])"
   ]
  },
  {
   "cell_type": "code",
   "execution_count": 531,
   "id": "433823c8-1f8e-4c45-937c-8d2d0cf68e5c",
   "metadata": {},
   "outputs": [
    {
     "name": "stdout",
     "output_type": "stream",
     "text": [
      "1764\n"
     ]
    }
   ],
   "source": [
    "rand_idx = np.random.randint(n_test)\n",
    "print(rand_idx)\n",
    "obstacles = p_test['obstacles'][rand_idx]\n",
    "x0, xg = p_test['x0'][rand_idx], p_test['xg'][rand_idx]\n",
    "x0 = np.array([0.5, 0.2, -0.1, -0.03])"
   ]
  },
  {
   "cell_type": "markdown",
   "id": "9c47ebbf-8545-43e0-9844-e568ce660682",
   "metadata": {},
   "source": [
    "### Plot of initial condition and obstacle set"
   ]
  },
  {
   "cell_type": "code",
   "execution_count": 11,
   "id": "8c6c5825-7ffe-4b38-854d-5d65dea465dc",
   "metadata": {},
   "outputs": [
    {
     "data": {
      "image/png": "[encoded data removed]",
      "text/plain": [
       "<Figure size 432x288 with 1 Axes>"
      ]
     },
     "metadata": {
      "needs_background": "light"
     },
     "output_type": "display_data"
    }
   ],
   "source": [
    "plt.axes()\n",
    "for ii_obs in range(prob.n_obs):\n",
    "    obstacle = obstacles[:, ii_obs]\n",
    "    rectangle = plt.Rectangle((obstacle[0], obstacle[2]), \\\n",
    "                              obstacle[1]-obstacle[0], obstacle[3]-obstacle[2], \\\n",
    "                             fc='red', ec='blue')\n",
    "    plt.gca().add_patch(rectangle)\n",
    "    plt.axis('scaled')\n",
    "\n",
    "circle = plt.Circle((x0[0],x0[1]), 0.04, fc='blue',ec=\"green\")\n",
    "plt.gca().add_patch(circle)\n",
    "circle = plt.Circle((xg[0],xg[1]), 0.04, fc='red',ec=\"green\")\n",
    "plt.gca().add_patch(circle)\n",
    "ax = plt.gca()\n",
    "ax.margins(0)\n",
    "ax.set(xlim=(prob.posmin[0],prob.posmax[0]), ylim=(prob.posmin[1],prob.posmax[1]))\n",
    "plt.show()"
   ]
  },
  {
   "cell_type": "markdown",
   "id": "2ae88544-3ae4-4eb8-86b5-7bccd2e537ed",
   "metadata": {},
   "source": [
    "# Run MPC"
   ]
  },
  {
   "cell_type": "code",
   "execution_count": 12,
   "id": "c2cfa433-70f9-40a3-8012-dccc9155d333",
   "metadata": {
    "tags": []
   },
   "outputs": [
    {
     "name": "stdout",
     "output_type": "stream",
     "text": [
      "Academic license - for non-commercial use only - expires 2022-07-05\n",
      "Using license file /home/acauligi/licenses/gurobi.lic\n"
     ]
    },
    {
     "name": "stderr",
     "output_type": "stream",
     "text": [
      "/home/acauligi/CoCo/coco/lib/python3.6/site-packages/cvxpy/problems/problem.py:1279: UserWarning: Solution may be inaccurate. Try another solver, adjusting the solver settings, or solve with verbose=True for more information.\n",
      "  \"Solution may be inaccurate. Try another solver, \"\n"
     ]
    },
    {
     "data": {
      "text/plain": [
       "3"
      ]
     },
     "execution_count": 12,
     "metadata": {},
     "output_type": "execute_result"
    }
   ],
   "source": [
    "mpc_steps = 151\n",
    "Xs, Us = [x0], []\n",
    "opt_control = []\n",
    "n_fails = 0\n",
    "\n",
    "ii_step, run_mpc = 0, True\n",
    "goal_thresh = 0.1\n",
    "while ii_step < mpc_steps and run_mpc:\n",
    "    p_dict = {}\n",
    "    p_dict['x0'] = x0\n",
    "    p_dict['obstacles'] = obstacles\n",
    "    p_dict['xg'] = xg\n",
    "\n",
    "    try:\n",
    "        prob_success, cost, total_time, n_evals, optvals = coco_obj.forward(p_dict, max_evals=max_evals, solver=cp.GUROBI)\n",
    "    except:\n",
    "        prob_success, cost, total_time, n_evals, optvals = coco_obj.forward(p_dict, max_evals=max_evals, solver=cp.SCS)\n",
    "    if not prob_success and len(opt_control) == 0:\n",
    "        print('Controller failed at time {}'.format(ii_step))\n",
    "        break\n",
    "    elif prob_success:\n",
    "        opt_control = []\n",
    "        # Unpack primal solutions\n",
    "        x_star, u_star, y_star = optvals\n",
    "        for i_t in range(coco_obj.problem.N-1):\n",
    "            opt_control.append(u_star[:, i_t])\n",
    "    if not prob_success:\n",
    "        n_fails += 1\n",
    "\n",
    "    u0 = opt_control[0]\n",
    "    Us.append(u0)\n",
    "    opt_control = opt_control[1:]\n",
    "\n",
    "    # Update initial state\n",
    "    x0 = prob.Ak @ x0 + prob.Bk @ u0\n",
    "    Xs.append(x0)\n",
    "\n",
    "    ii_step += 1\n",
    "\n",
    "    if np.sum(np.abs(x0 - xg)) <= goal_thresh:\n",
    "        run_mpc = False\n",
    "x_opt = np.stack(Xs).T\n",
    "u_opt = np.stack(Us).T\n",
    "\n",
    "n_fails"
   ]
  },
  {
   "cell_type": "markdown",
   "id": "f08c6212-010a-46a2-a0db-1aa6439a1965",
   "metadata": {},
   "source": [
    "### Interpolate trajectory smoothly between waypoints of returned solution using double integrator dynamics"
   ]
  },
  {
   "cell_type": "code",
   "execution_count": 13,
   "id": "1010e4b0-4e9d-4faa-9590-cda92c6b7e45",
   "metadata": {},
   "outputs": [],
   "source": [
    "dh = coco_obj.problem.Ak[0,2]\n",
    "x0 = x_opt[:, 0]\n",
    "\n",
    "Tf = (coco_obj.problem.N-1)*dh\n",
    "Tf = (x_opt.shape[1]-1)*dh\n",
    "Ts = np.cumsum(dh*np.ones(x_opt.shape[1])) - dh\n",
    "\n",
    "n_sample = 10000\n",
    "x_traj = np.zeros((2*coco_obj.problem.n, 0))\n",
    "x_next = np.copy(x0)\n",
    "\n",
    "for tt in np.linspace(0.0, Tf, n_sample):\n",
    "    if tt >= Ts[-1]:\n",
    "        continue\n",
    "    x_traj = np.hstack((x_traj, np.expand_dims(x_next, axis=1)))\n",
    "\n",
    "    t_idx = np.where(tt >= Ts)[0][-1]\n",
    "    x_prev, u_prev = x_opt[:, t_idx], u_opt[:, t_idx]\n",
    "    x_next[:2] = x_prev[:2] + x_prev[2:]*(tt - Ts[t_idx]) + 0.5*u_prev*(tt - Ts[t_idx])**2\n",
    "    x_next[2:] = x_prev[2:] + u_prev*(tt - Ts[t_idx])"
   ]
  },
  {
   "cell_type": "code",
   "execution_count": 14,
   "id": "41fe3c3c-6959-4932-a48e-b399e8b97de3",
   "metadata": {},
   "outputs": [
    {
     "data": {
      "image/png": "[encoded data removed]",
      "text/plain": [
       "<Figure size 432x288 with 1 Axes>"
      ]
     },
     "metadata": {
      "needs_background": "light"
     },
     "output_type": "display_data"
    }
   ],
   "source": [
    "plt.axes()\n",
    "for ii_obs in range(prob.n_obs):\n",
    "    obstacle = obstacles[:, ii_obs]\n",
    "    rectangle = plt.Rectangle((obstacle[0], obstacle[2]), \\\n",
    "                              obstacle[1]-obstacle[0], obstacle[3]-obstacle[2], \\\n",
    "                             fc='red', ec='blue')\n",
    "    plt.gca().add_patch(rectangle)\n",
    "    plt.axis('scaled')\n",
    "\n",
    "circle = plt.Circle((x0[0],x0[1]), 0.04, fc='blue',ec=\"green\")\n",
    "plt.gca().add_patch(circle)\n",
    "circle = plt.Circle((xg[0],xg[1]), 0.04, fc='red',ec=\"green\")\n",
    "plt.gca().add_patch(circle)\n",
    "\n",
    "plt.plot(x_traj[0,:], x_traj[1,:])\n",
    "plt.scatter(x_opt[0,:], x_opt[1,:])\n",
    "\n",
    "ax = plt.gca()\n",
    "ax.margins(0)\n",
    "ax.set(xlim=(prob.posmin[0],prob.posmax[0]), ylim=(prob.posmin[1],prob.posmax[1]))\n",
    "plt.show()"
   ]
  },
  {
   "cell_type": "code",
   "execution_count": null,
   "id": "9672c104-c943-4b45-827b-cd0e9d2fa34a",
   "metadata": {},
   "outputs": [],
   "source": []
  }
 ],
 "metadata": {
  "kernelspec": {
   "display_name": "coco",
   "language": "python",
   "name": "coco"
  },
  "language_info": {
   "codemirror_mode": {
    "name": "ipython",
    "version": 3
   },
   "file_extension": ".py",
   "mimetype": "text/x-python",
   "name": "python",
   "nbconvert_exporter": "python",
   "pygments_lexer": "ipython3",
   "version": "3.6.9"
  }
 },
 "nbformat": 4,
 "nbformat_minor": 5
}
