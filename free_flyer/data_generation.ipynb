{
 "cells": [
  {
   "cell_type": "code",
   "execution_count": 1,
   "metadata": {},
   "outputs": [],
   "source": [
    "%load_ext autoreload\n",
    "%autoreload 2\n",
    "\n",
    "import pdb\n",
    "import pickle, os\n",
    "import numpy as np\n",
    "import cvxpy as cp\n",
    "import concurrent.futures\n",
    "\n",
    "import matplotlib.pyplot as plt\n",
    "%matplotlib inline\n",
    "\n",
    "from free_flyer import FreeFlyer\n",
    "from utils import *"
   ]
  },
  {
   "cell_type": "markdown",
   "metadata": {},
   "source": [
    "# Problem parameters"
   ]
  },
  {
   "cell_type": "code",
   "execution_count": 2,
   "metadata": {},
   "outputs": [],
   "source": [
    "n = 2; m = 2\n",
    "\n",
    "N = 8 # horizon\n",
    "dh = 0.75\n",
    "Ak = np.eye(2*n)\n",
    "Ak[:n,n:] = dh*np.eye(n)\n",
    "Bk = np.zeros((2*n,m))\n",
    "Bk[:n,:] = 0.5*dh**2 * np.eye(n)\n",
    "Bk[n:,:] = dh*np.eye(n)\n",
    "\n",
    "Q = np.diag([0.75,0.75,1,1.])\n",
    "R = 1000.0*np.eye(m)\n",
    "\n",
    "mass_ff_min = 15.36\n",
    "mass_ff_max = 18.08\n",
    "mass_ff = 0.5*(mass_ff_min+mass_ff_max)\n",
    "thrust_max = 0.4  # max thrust [N] from two thrusters \n",
    "umin = -thrust_max/mass_ff\n",
    "umax = thrust_max/mass_ff\n",
    "velmin = -0.2\n",
    "velmax = 0.2\n",
    "posmin = np.array([0.2, 0.2])\n",
    "\n",
    "ft2m = 0.3048\n",
    "posmax = ft2m*np.array([12.,9.])\n",
    "\n",
    "in2m = 0.0254\n",
    "widths = 0.27\n",
    "inflate = 0.2\n",
    "\n",
    "max_box_size = widths + inflate + 0.1\n",
    "min_box_size = widths + inflate + 0.05\n",
    "box_buffer = 0.025\n",
    "border_size = 0.05\n",
    "\n",
    "n_obs = 8\n",
    "\n",
    "prob_params = [N, Ak, Bk, Q, R, n_obs , \\\n",
    "    posmin, posmax, velmin, velmax, umin, umax]"
   ]
  },
  {
   "cell_type": "markdown",
   "metadata": {},
   "source": [
    "### Randomly sample obstacles and then find free x0"
   ]
  },
  {
   "cell_type": "code",
   "execution_count": 3,
   "metadata": {},
   "outputs": [
    {
     "name": "stdout",
     "output_type": "stream",
     "text": [
      "[ 3.30013586  1.33984412  0.05339551 -0.15507043]\n"
     ]
    },
    {
     "data": {
      "image/png": "[encoded data removed]",
      "text/plain": [
       "<Figure size 432x288 with 1 Axes>"
      ]
     },
     "metadata": {
      "needs_background": "light"
     },
     "output_type": "display_data"
    },
    {
     "data": {
      "text/plain": [
       "<Figure size 432x288 with 0 Axes>"
      ]
     },
     "metadata": {},
     "output_type": "display_data"
    }
   ],
   "source": [
    "obstacles = random_obs(n_obs, posmin, posmax, border_size, box_buffer, min_box_size, max_box_size)\n",
    "x0 = findIC(obstacles, posmin, posmax, velmin, velmax)\n",
    "print(x0)\n",
    "\n",
    "plt.axes()\n",
    "for obstacle in obstacles:\n",
    "    rectangle = plt.Rectangle((obstacle[0], obstacle[2]), \\\n",
    "                              obstacle[1]-obstacle[0], obstacle[3]-obstacle[2], \\\n",
    "                             fc='red', ec='blue')\n",
    "    plt.gca().add_patch(rectangle)\n",
    "    plt.axis('scaled')\n",
    "\n",
    "if x0.size > 0:\n",
    "    circle = plt.Circle((x0[0],x0[1]), 0.04, fc='blue',ec=\"green\")\n",
    "plt.gca().add_patch(circle)    \n",
    "\n",
    "ax = plt.gca()\n",
    "ax.margins(0)\n",
    "ax.set(xlim=(posmin[0],posmax[0]), ylim=(posmin[1],posmax[1]))\n",
    "fig = plt.figure()\n",
    "plt.show()"
   ]
  },
  {
   "cell_type": "code",
   "execution_count": 4,
   "metadata": {},
   "outputs": [],
   "source": [
    "# x0 = np.array([ 0.36950977,  0.65795038, 0.0,  0.0])\n",
    "# obstacles = [np.array([1.78908082, 2.33698917, 0.82589495, 1.35569387]),\n",
    "#  np.array([2.39444484, 2.95299814, 0.41178077, 0.95980214]),\n",
    "#  np.array([2.26271826, 2.81030253, 1.97023535, 2.52312779]),\n",
    "#  np.array([1.08267206, 1.62202861, 0.88837961, 1.44653907]),\n",
    "#  np.array([1.26075217, 1.82436044, 0.26424495, 0.80072948]),\n",
    "#  np.array([0.14523162, 0.67518646, 0.79589552, 1.34191343]),\n",
    "#  np.array([0.03981126, 0.56524435, 1.65175516, 2.18033445]),\n",
    "#  np.array([0.99966176, 1.56753016, 1.88232306, 2.44064098])]\n",
    "\n",
    "xg  = np.hstack((0.9*posmax, np.zeros(n)))\n",
    "\n",
    "prob = FreeFlyer()\n",
    "\n",
    "Xs = [x0]\n",
    "for ii in range(5):\n",
    "    p_dict = {}\n",
    "    p_dict['x0'] = x0\n",
    "    p_dict['obstacles'] = obstacles\n",
    "    p_dict['xg'] = xg\n",
    "\n",
    "    msk_param_dict = {}\n",
    "    prob_success, cost, solve_time, optvals = prob.solve_micp(p_dict, solver=cp.MOSEK, msk_param_dict=msk_param_dict)\n",
    "    if not prob_success:\n",
    "        print(ii)\n",
    "        break\n",
    "\n",
    "    u0 = optvals[1][:,0]\n",
    "#     print(u0)\n",
    "    x0 = prob.Ak @ x0 + prob.Bk @ u0\n",
    "    Xs.append(x0)\n",
    "Xopt = np.stack(Xs).T"
   ]
  },
  {
   "cell_type": "code",
   "execution_count": 118,
   "metadata": {},
   "outputs": [
    {
     "data": {
      "image/png": "[encoded data removed]",
      "text/plain": [
       "<Figure size 432x288 with 1 Axes>"
      ]
     },
     "metadata": {
      "needs_background": "light"
     },
     "output_type": "display_data"
    }
   ],
   "source": [
    "plt.axes()\n",
    "for obstacle in obstacles:\n",
    "    rectangle = plt.Rectangle((obstacle[0], obstacle[2]), \\\n",
    "                              obstacle[1]-obstacle[0], obstacle[3]-obstacle[2], \\\n",
    "                             fc='red', ec='blue')\n",
    "    plt.gca().add_patch(rectangle)\n",
    "    plt.axis('scaled')\n",
    "\n",
    "circle = plt.Circle((x0[0],x0[1]), 0.04, fc='blue',ec=\"green\")\n",
    "plt.gca().add_patch(circle)\n",
    "\n",
    "circle = plt.Circle((xg[0],xg[1]), 0.04, fc='blue',ec=\"green\")\n",
    "plt.gca().add_patch(circle)\n",
    "\n",
    "plt.quiver(Xopt[0,:], Xopt[1,:], Xopt[2,:], Xopt[3,:])\n",
    "\n",
    "ax = plt.gca()\n",
    "ax.margins(0)\n",
    "ax.set(xlim=(posmin[0],posmax[0]), ylim=(posmin[1],posmax[1]))\n",
    "plt.show()"
   ]
  },
  {
   "cell_type": "markdown",
   "metadata": {},
   "source": [
    "### Or sample x0 and place obstacles along the way to xg"
   ]
  },
  {
   "cell_type": "code",
   "execution_count": 116,
   "metadata": {},
   "outputs": [
    {
     "data": {
      "image/png": "[encoded data removed]",
      "text/plain": [
       "<Figure size 432x288 with 1 Axes>"
      ]
     },
     "metadata": {
      "needs_background": "light"
     },
     "output_type": "display_data"
    }
   ],
   "source": [
    "x0 = np.hstack((posmin + 0.5*(posmax-posmin)*np.random.rand(2), \\\n",
    "               velmin + (velmax-velmin)*np.random.rand(2)))\n",
    "obstacles = find_obs(x0, n_obs, posmin, posmax, \\\n",
    "                border_size, box_buffer, min_box_size, max_box_size, \\\n",
    "                ignore_intersection=False)\n",
    "if len(obstacles) == 0:\n",
    "    obstacles = find_obs(x0, n_obs, posmin, posmax, \\\n",
    "                    border_size, box_buffer, min_box_size, max_box_size, \\\n",
    "                    ignore_intersection=True)\n",
    "\n",
    "if len(obstacles) is n_obs:\n",
    "    plt.axes()\n",
    "    for obstacle in obstacles:\n",
    "        rectangle = plt.Rectangle((obstacle[0], obstacle[2]), \\\n",
    "                                  obstacle[1]-obstacle[0], obstacle[3]-obstacle[2], \\\n",
    "                                 fc='red', ec='blue')\n",
    "        plt.gca().add_patch(rectangle)\n",
    "        plt.axis('scaled')\n",
    "\n",
    "    circle = plt.Circle((x0[0],x0[1]), 0.04, fc='blue',ec=\"green\")\n",
    "    plt.gca().add_patch(circle)    \n",
    "\n",
    "    ax = plt.gca()\n",
    "    ax.margins(0)\n",
    "    ax.set(xlim=(posmin[0],posmax[0]), ylim=(posmin[1],posmax[1]))\n",
    "    plt.show()"
   ]
  },
  {
   "cell_type": "markdown",
   "metadata": {},
   "source": [
    "### For obstacle map feature, shade in one particular obstacle"
   ]
  },
  {
   "cell_type": "code",
   "execution_count": 10,
   "metadata": {},
   "outputs": [
    {
     "data": {
      "image/png": "[encoded data removed]",
      "text/plain": [
       "<Figure size 432x288 with 1 Axes>"
      ]
     },
     "metadata": {
      "needs_background": "light"
     },
     "output_type": "display_data"
    }
   ],
   "source": [
    "obs_ii = 7\n",
    "\n",
    "W_H_ratio = posmax[0] / posmax[1]\n",
    "H = 64\n",
    "W = int(W_H_ratio * H)\n",
    "\n",
    "table_img = np.ones((H,W,3))\n",
    "\n",
    "obs_ll = [ii for ii in range(n_obs) if ii is not obs_ii]\n",
    "obs_ll.append(obs_ii)\n",
    "obs_ll\n",
    "for ll in obs_ll:\n",
    "    obs = obstacles[ll]\n",
    "    row_range = range(int(float(obs[2])/posmax[1]*H), int(float(obs[3])/posmax[1]*H))\n",
    "    col_range = range(int(float(obs[0])/posmax[0]*W), int(float(obs[1])/posmax[0]*W))\n",
    "    row_range = range(np.maximum(row_range[0],0), np.minimum(row_range[-1],H))\n",
    "    col_range = range(np.maximum(col_range[0],0), np.minimum(col_range[-1],W))\n",
    "\n",
    "    if ll is obs_ii:\n",
    "        table_img[row_range[0]:row_range[-1], col_range[0]:col_range[-1], :] = 1\n",
    "        table_img[row_range[0]:row_range[-1], col_range[0]:col_range[-1], :2] = 0\n",
    "    else:\n",
    "        table_img[row_range[0]:row_range[-1], col_range[0]:col_range[-1], 1:] = 0\n",
    "\n",
    "plt.imshow(table_img)\n",
    "plt.gca().invert_yaxis()"
   ]
  },
  {
   "cell_type": "markdown",
   "metadata": {},
   "source": [
    "# Setup pickle file for default parameters"
   ]
  },
  {
   "cell_type": "code",
   "execution_count": 3,
   "metadata": {},
   "outputs": [],
   "source": [
    "#setup filenames\n",
    "relative_path = os.getcwd()\n",
    "dataset_name = 'default'\n",
    "\n",
    "if not os.path.isdir(os.path.join(relative_path, 'data', dataset_name)):\n",
    "    os.mkdir(os.path.join(relative_path+'/data/'+dataset_name))\n",
    "    \n",
    "if not os.path.isdir(os.path.join(relative_path, 'config')):\n",
    "    os.mkdir(os.path.join(relative_path, 'config'))\n",
    "\n",
    "train_fn = os.path.join(relative_path, 'data', dataset_name, 'train.p')\n",
    "test_fn = os.path.join(relative_path, 'data', dataset_name, 'test.p')\n",
    "\n",
    "#load default parameter values\n",
    "n = 2; m = 2\n",
    "\n",
    "#define all possible params that can be varied\n",
    "all_params = ['N', 'Ak', 'Bk', 'Q', 'R', 'n_obs', \\\n",
    "    'posmin', 'posmax', 'velmin', 'velmax', \\\n",
    "    'umin', 'umax', \\\n",
    "    'x0', 'xg', 'obstacles']\n",
    "\n",
    "## TODO(pculbertson): implement custom param variation.\n",
    "#plan: split all_params into static & sampled params\n",
    "#in Problem object, keep param dict with keys == all_params\n",
    "#on constructing problem, make every param key map to either static value\n",
    "#or a cvxpy.Parameter object.\n",
    "\n",
    "### VARY ANY DESIRED PARAM VALUES HERE ###\n",
    "\n",
    "param_dict = {'N':N, 'Ak':Ak, 'Bk':Bk, 'Q':Q, 'R':R, 'n_obs':n_obs, \\\n",
    "    'posmin':posmin, 'posmax':posmax, 'velmin':velmin, 'velmax':velmax, \\\n",
    "    'umin':umin, 'umax':umax}\n",
    "\n",
    "#specify which parameters to sample, & their distributions\n",
    "sampled_params = ['x0', 'xg', 'obstacles']\n",
    "sample_dists = {'x0': lambda: np.hstack((posmin + (posmax-posmin)*np.random.rand(2), \\\n",
    "               velmin + (velmax-velmin)*np.random.rand(2))) ,\\\n",
    "               'xg': lambda: np.hstack((0.9*posmax, np.zeros(n))), \\\n",
    "               'obstacles': lambda: random_obs(n_obs, posmin, posmax, border_size, min_box_size, max_box_size)}\n",
    "\n",
    "#specify dataset sizes\n",
    "num_train = 250; num_test = 50\n",
    "T = 3\n",
    "num_probs = num_train + num_test\n",
    "\n",
    "#write out config\n",
    "config_fn = os.path.join(relative_path, 'config', dataset_name+'.p')\n",
    "\n",
    "config = [dataset_name, prob_params, sampled_params]\n",
    "outfile = open(config_fn,\"wb\")\n",
    "pickle.dump(config,outfile); outfile.close()"
   ]
  },
  {
   "cell_type": "markdown",
   "metadata": {},
   "source": [
    "# Generate training+test set data by solving MICPs"
   ]
  },
  {
   "cell_type": "code",
   "execution_count": 4,
   "metadata": {},
   "outputs": [],
   "source": [
    "prob = FreeFlyer()\n",
    "\n",
    "#create numpy containers for data: (params, x, u, y, J*, solve_time)\n",
    "params = {}\n",
    "if 'x0' in sampled_params:\n",
    "    params['x0'] = np.zeros((num_probs*T,2*n))\n",
    "if 'xg' in sampled_params:\n",
    "    params['xg'] = np.zeros((num_probs,2*n))\n",
    "if 'obstacles' in sampled_params:\n",
    "    params['obstacles'] = np.zeros((num_probs, 4, n_obs))\n",
    "\n",
    "X = np.zeros((num_probs, 2*n*T, N));\n",
    "U = np.zeros((num_probs, m*T, N-1))\n",
    "Y = np.zeros((num_probs, 4*n_obs*T, N-1)).astype(int)\n",
    "\n",
    "costs = np.zeros(num_probs*T)\n",
    "solve_times = np.zeros(num_probs*T)"
   ]
  },
  {
   "cell_type": "code",
   "execution_count": 6,
   "metadata": {},
   "outputs": [
    {
     "name": "stdout",
     "output_type": "stream",
     "text": [
      "Done with problem 136\n",
      "Done with problem 256\n"
     ]
    }
   ],
   "source": [
    "total_count = 0\n",
    "ii = 0\n",
    "ii_obs = 0\n",
    "ii_toggle = 0\n",
    "obs_new_ct = 5\n",
    "toggle_ct = 100\n",
    "toggle_obstacles = True\n",
    "\n",
    "#big for loop, sampling problem data, solving MICP, & storing\n",
    "while ii < num_probs:\n",
    "    total_count += 1\n",
    "    if total_count % 100 == 0:\n",
    "        print('Done with problem {}'.format(ii))\n",
    "\n",
    "    p_dict = {}\n",
    "    if 'x0' in sampled_params or 'obstacles' in sampled_params:\n",
    "        if toggle_obstacles:\n",
    "            x0 = sample_dists['x0']()\n",
    "            obstacles = find_obs(x0, n_obs, posmin, posmax,\\\n",
    "                border_size, box_buffer, min_box_size, max_box_size, \\\n",
    "                ignore_intersection=False)\n",
    "            if len(obstacles) is not n_obs:\n",
    "                obstacles = find_obs(x0, n_obs, posmin, posmax,\\\n",
    "                    border_size, box_buffer, min_box_size, max_box_size, \\\n",
    "                    ignore_intersection=True)\n",
    "\n",
    "            if ii_toggle % obs_new_ct == 0:\n",
    "                toggle_obstacles = False\n",
    "                ii_obs = 0\n",
    "                ii_toggle = 0\n",
    "        else:\n",
    "            if ii_obs % obs_new_ct == 0:\n",
    "                obstacles = \\\n",
    "                    random_obs(n_obs, posmin, posmax, border_size, box_buffer, min_box_size, max_box_size)\n",
    "            x0 = findIC(obstacles, posmin, posmax, velmin, velmax)\n",
    "\n",
    "            if ii_toggle % toggle_ct == 0:\n",
    "                toggle_obstacles = True\n",
    "                ii_obs = 0\n",
    "                ii_toggle = 0\n",
    "\n",
    "        if len(obstacles) is not n_obs:\n",
    "            continue\n",
    "\n",
    "        params['obstacles'][ii,:] = np.reshape(np.concatenate(obstacles, axis=0), (n_obs,4)).T\n",
    "        p_dict['obstacles'] = params['obstacles'][ii,:]\n",
    "\n",
    "    if 'xg' in sampled_params:\n",
    "        params['xg'][ii,:] = sample_dists['xg']()\n",
    "        p_dict['xg'] = params['xg'][ii,:]\n",
    "\n",
    "    prob_success = False\n",
    "    for t_step in range(T):\n",
    "        params['x0'][ii+t_step,:] = x0\n",
    "        p_dict['x0'] = x0\n",
    "\n",
    "        try:\n",
    "            prob_success, cost, solve_time, optvals = prob.solve_micp(p_dict, solver=cp.MOSEK)\n",
    "        except (KeyboardInterrupt, SystemExit):\n",
    "            raise\n",
    "        except:\n",
    "            print('solver failed at '.format(ii))\n",
    "\n",
    "        if not prob_success:\n",
    "            break\n",
    "\n",
    "        # Propagate control forward\n",
    "        u0 = optvals[1][:,0]\n",
    "        x0 = prob.Ak @ x0 + prob.Bk @ u0\n",
    "\n",
    "        costs[ii+t_step] = cost; solve_times[ii+t_step] = solve_time\n",
    "\n",
    "        X[ii, 2*n*t_step:2*n*(t_step+1), :] = optvals[0]\n",
    "        U[ii, m*t_step:m*(t_step+1) :] = optvals[1]\n",
    "        Y[ii, 4*n_obs*t_step:4*n_obs*(t_step+1), :] = optvals[2]\n",
    "\n",
    "    if prob_success:\n",
    "        ii += t_step\n",
    "        ii_obs += t_step\n",
    "        ii_toggle += t_step"
   ]
  },
  {
   "cell_type": "code",
   "execution_count": 7,
   "metadata": {},
   "outputs": [
    {
     "name": "stdout",
     "output_type": "stream",
     "text": [
      "done\n"
     ]
    }
   ],
   "source": [
    "print('done')"
   ]
  },
  {
   "cell_type": "code",
   "execution_count": null,
   "metadata": {},
   "outputs": [],
   "source": [
    "# import multiprocessing as mp\n",
    "\n",
    "# # Step 1: Init multiprocessing.Pool()\n",
    "# pool = mp.Pool(mp.cpu_count())\n",
    "\n",
    "# # Step 2: `pool.apply` the `howmany_within_range()`\n",
    "# results = [pool.apply(generate_data, args=(batch_id, 8)) for batch_id in range(14)]\n",
    "\n",
    "# # Step 3: Don't forget to close\n",
    "# pool.close()"
   ]
  },
  {
   "cell_type": "code",
   "execution_count": null,
   "metadata": {},
   "outputs": [],
   "source": []
  },
  {
   "cell_type": "markdown",
   "metadata": {},
   "source": [
    "### Data generated with spatial relations, so shuffle indices"
   ]
  },
  {
   "cell_type": "code",
   "execution_count": 12,
   "metadata": {},
   "outputs": [],
   "source": [
    "arr = np.arange(num_probs)\n",
    "np.random.shuffle(arr)\n",
    "\n",
    "X = X[arr]\n",
    "U = U[arr]\n",
    "Y = Y[arr]\n",
    "\n",
    "if 'x0' in sampled_params:\n",
    "    params['x0'] = params['x0'][arr]\n",
    "if 'xg' in sampled_params:\n",
    "    params['xg'] = params['xg'][arr]\n",
    "if 'obstacles' in sampled_params:\n",
    "    params['obstacles'] = params['obstacles'][arr]\n",
    "\n",
    "costs = costs[arr]\n",
    "solve_times = solve_times[arr]"
   ]
  },
  {
   "cell_type": "code",
   "execution_count": 13,
   "metadata": {},
   "outputs": [],
   "source": [
    "#post-processing + write out\n",
    "train_params = {}; test_params = {}\n",
    "if 'x0' in sampled_params:\n",
    "    train_params['x0'] = params['x0'][:num_train,:]\n",
    "    test_params['x0'] = params['x0'][num_train:,:]\n",
    "if 'obstacles' in sampled_params:\n",
    "    train_params['obstacles'] = params['obstacles'][:num_train,:]\n",
    "    test_params['obstacles'] = params['obstacles'][num_train:,:]\n",
    "if 'xg' in sampled_params:\n",
    "    train_params['xg'] = params['xg'][:num_train,:]\n",
    "    test_params['xg'] = params['xg'][num_train:,:]\n",
    "\n",
    "train_data = [train_params]\n",
    "train_data += [X[:num_train,:,:], U[:num_train,:,:], Y[:num_train,:,:]]\n",
    "train_data += [costs[:num_train], solve_times[:num_train]]\n",
    "\n",
    "test_data = [test_params]\n",
    "test_data += [X[num_train:,:,:], U[num_train:,:,:], Y[num_train:,:,:]]\n",
    "test_data += [costs[num_train:], solve_times[num_train:]]\n",
    "\n",
    "train_file = open(train_fn,'wb')\n",
    "pickle.dump(train_data,train_file); train_file.close()\n",
    "\n",
    "test_file = open(test_fn, 'wb')\n",
    "pickle.dump(test_data,test_file); test_file.close()"
   ]
  },
  {
   "cell_type": "markdown",
   "metadata": {},
   "source": [
    "# Parallelize data generation"
   ]
  },
  {
   "cell_type": "code",
   "execution_count": 35,
   "metadata": {},
   "outputs": [],
   "source": [
    "def generate_horizon(N, n_obs=8):\n",
    "    n = 2; m = 2\n",
    "\n",
    "    dh = 0.75\n",
    "    Ak = np.eye(2*n)\n",
    "    Ak[:n,n:] = dh*np.eye(n)\n",
    "    Bk = np.zeros((2*n,m))\n",
    "    Bk[:n,:] = 0.5*dh**2 * np.eye(n)\n",
    "    Bk[n:,:] = dh*np.eye(n)\n",
    "\n",
    "    Q = np.diag([2,2,1,1.])\n",
    "    R = 1000.*np.eye(m)\n",
    "\n",
    "    mass_ff_min = 15.36\n",
    "    mass_ff_max = 18.08\n",
    "    mass_ff = 0.5*(mass_ff_min+mass_ff_max)\n",
    "    thrust_max = 2*1.  # max thrust [N] from two thrusters \n",
    "    umin = -thrust_max/mass_ff\n",
    "    umax = thrust_max/mass_ff\n",
    "    velmin = -0.2\n",
    "    velmax = 0.2\n",
    "    posmin = np.zeros(n)\n",
    "\n",
    "    ft2m = 0.3048\n",
    "    posmax = ft2m*np.array([12.,9.])\n",
    "    max_box_size = 0.75\n",
    "    min_box_size = 0.25\n",
    "    box_buffer = 0.025\n",
    "    border_size = 0.05\n",
    "\n",
    "    prob_params = [N, Ak, Bk, Q, R, n_obs , \\\n",
    "        posmin, posmax, velmin, velmax, umin, umax]\n",
    "\n",
    "    #setup filenames\n",
    "    relative_path = os.getcwd()\n",
    "    dataset_name = 'default_horizon_{}'.format(N)\n",
    "\n",
    "    if not os.path.isdir(os.path.join(relative_path, 'data', dataset_name)):\n",
    "        os.mkdir(os.path.join(relative_path+'/data/'+dataset_name))\n",
    "\n",
    "    if not os.path.isdir(os.path.join(relative_path, 'config')):\n",
    "        os.mkdir(os.path.join(relative_path, 'config'))\n",
    "\n",
    "    train_fn = 'train_horizon_{}.p'.format(N)\n",
    "    train_fn = os.path.join(relative_path, 'data', dataset_name, train_fn)\n",
    "    test_fn = 'test_horizon_{}.p'.format(N)\n",
    "    test_fn = os.path.join(relative_path, 'data', dataset_name, test_fn)\n",
    "\n",
    "    #define all possible params that can be varied\n",
    "    all_params = ['N', 'Ak', 'Bk', 'Q', 'R', 'n_obs', \\\n",
    "        'posmin', 'posmax', 'velmin', 'velmax', \\\n",
    "        'umin', 'umax', \\\n",
    "        'x0', 'xg', 'obstacles']\n",
    "\n",
    "    param_dict = {'N':N, 'Ak':Ak, 'Bk':Bk, 'Q':Q, 'R':R, 'n_obs':n_obs, \\\n",
    "        'posmin':posmin, 'posmax':posmax, 'velmin':velmin, 'velmax':velmax, \\\n",
    "        'umin':umin, 'umax':umax}\n",
    "\n",
    "    #specify which parameters to sample, & their distributions\n",
    "    sampled_params = ['x0', 'xg', 'obstacles']\n",
    "    sample_dists = {'x0': lambda: np.hstack((posmin + (posmax-posmin)*np.random.rand(2), \\\n",
    "                   velmin + (velmax-velmin)*np.random.rand(2))) ,\\\n",
    "                   'xg': lambda: np.hstack((0.9*posmax, np.zeros(n))), \\\n",
    "                   'obstacles': lambda: random_obs(n_obs, posmin, posmax, border_size, min_box_size, max_box_size)}\n",
    "\n",
    "    #specify dataset sizes\n",
    "    num_train = 27; num_test = 3\n",
    "    num_probs = num_train + num_test\n",
    "\n",
    "    #write out config\n",
    "    config_fn = os.path.join(relative_path, 'config', dataset_name+'.p')\n",
    "\n",
    "    config = [dataset_name, prob_params, sampled_params]\n",
    "    outfile = open(config_fn,\"wb\")\n",
    "    pickle.dump(config,outfile); outfile.close()\n",
    "\n",
    "    prob = FreeFlyer()\n",
    "\n",
    "    #create numpy containers for data: (params, x, u, y, J*, solve_time)\n",
    "    params = {}\n",
    "    if 'x0' in sampled_params:\n",
    "        params['x0'] = np.zeros((num_probs,2*n))\n",
    "    if 'xg' in sampled_params:\n",
    "        params['xg'] = np.zeros((num_probs,2*n))\n",
    "    if 'obstacles' in sampled_params:\n",
    "        params['obstacles'] = np.zeros((num_probs, 4, n_obs))\n",
    "\n",
    "    X = np.zeros((num_probs, 2*n, N));\n",
    "    U = np.zeros((num_probs, m, N-1))\n",
    "    Y = np.zeros((num_probs, 4*n_obs, N-1)).astype(int)\n",
    "\n",
    "    costs = np.zeros(num_probs)\n",
    "    solve_times = np.zeros(num_probs)\n",
    "\n",
    "    total_count = 0\n",
    "    ii = 0\n",
    "    ii_obs = 0\n",
    "    ii_toggle = 0\n",
    "    obs_new_ct = 5\n",
    "    toggle_ct = 10\n",
    "    toggle_obstacles = True\n",
    "\n",
    "    #big for loop, sampling problem data, solving MICP, & storing\n",
    "    while ii < num_probs:\n",
    "        total_count += 1\n",
    "        if total_count % 10 == 0:\n",
    "            print('Done with problem {}'.format(ii))\n",
    "            dump_fn = 'testfile_long_horizon_.txt'.format(N)\n",
    "            file = open(dump_fn,'w')\n",
    "            file.write('total_count: {}\\n'.format(total_count))\n",
    "            file.write('Problems solved: {}'.format(ii))\n",
    "            file.close()\n",
    "\n",
    "        p_dict = {}\n",
    "        if 'x0' in sampled_params or 'obstacles' in sampled_params:\n",
    "            if toggle_obstacles:\n",
    "                x0 = sample_dists['x0']()\n",
    "                obstacles = find_obs(x0, n_obs, posmin, posmax, \\\n",
    "                                border_size, box_buffer, min_box_size, max_box_size, \\\n",
    "                                ignore_intersection=False)\n",
    "                if len(obstacles) is not n_obs:\n",
    "                    obstacles = find_obs(x0, n_obs, \\\n",
    "                                    posmin, posmax, border_size, box_buffer, \\\n",
    "                                    min_box_size, max_box_size, \\\n",
    "                                    ignore_intersection=True)\n",
    "\n",
    "                if ii_toggle % obs_new_ct == 0:\n",
    "                    toggle_obstacles = False\n",
    "                    ii_obs = 0\n",
    "                    ii_toggle = 0\n",
    "            else:\n",
    "                if ii_obs % obs_new_ct == 0:\n",
    "                    obstacles = random_obs(n_obs, posmin, posmax, \\\n",
    "                                               border_size, box_buffer, \\\n",
    "                                               min_box_size, max_box_size)\n",
    "                x0 = findIC(obstacles, posmin, posmax, velmin, velmax)\n",
    "\n",
    "                if ii_toggle % toggle_ct == 0:\n",
    "                    toggle_obstacles = True\n",
    "                    ii_obs = 0\n",
    "                    ii_toggle = 0\n",
    "\n",
    "            if len(obstacles) is not n_obs:\n",
    "                continue\n",
    "\n",
    "            params['obstacles'][ii,:] = np.reshape(np.concatenate(obstacles, axis=0), (n_obs,4)).T\n",
    "            params['x0'][ii,:] = x0\n",
    "\n",
    "            p_dict['x0'] = params['x0'][ii,:]\n",
    "            p_dict['obstacles'] = params['obstacles'][ii,:]\n",
    "\n",
    "        if 'xg' in sampled_params:\n",
    "            params['xg'][ii,:] = sample_dists['xg']()\n",
    "            p_dict['xg'] = params['xg'][ii,:]\n",
    "\n",
    "        dump_fn = 'dump_data_horizon_.p'.format(N)\n",
    "        dump_file = open(dump_fn,'wb')\n",
    "        dump_data = [p_dict['x0'], p_dict['xg'], p_dict['obstacles']]\n",
    "        pickle.dump(dump_data,dump_file); dump_file.close()\n",
    "\n",
    "        prob_success = False\n",
    "        try:\n",
    "    #         with time_limit(20):\n",
    "            prob_success, cost, solve_time, optvals = prob.solve_micp(p_dict, solver=cp.MOSEK)\n",
    "        except (KeyboardInterrupt, SystemExit):\n",
    "            raise\n",
    "        except:\n",
    "            print('solver failed at '.format(ii))\n",
    "        #     except (TimeoutException):\n",
    "    #         print(\"Timed out at {}!\".format(ii))\n",
    "\n",
    "        if prob_success:\n",
    "            costs[ii] = cost; solve_times[ii] = solve_time\n",
    "            pdb.set_trace()\n",
    "            X[ii,:,:], U[ii,:,:], Y[ii,:,:] = optvals\n",
    "            ii += 1\n",
    "            ii_obs += 1\n",
    "            ii_toggle += 1\n",
    "\n",
    "    arr = np.arange(num_probs)\n",
    "    np.random.shuffle(arr)\n",
    "\n",
    "    X = X[arr]\n",
    "    U = U[arr]\n",
    "    Y = Y[arr]\n",
    "\n",
    "    if 'x0' in sampled_params:\n",
    "        params['x0'] = params['x0'][arr]\n",
    "    if 'xg' in sampled_params:\n",
    "        params['xg'] = params['xg'][arr]\n",
    "    if 'obstacles' in sampled_params:\n",
    "        params['obstacles'] = params['obstacles'][arr]\n",
    "\n",
    "    costs = costs[arr]\n",
    "    solve_times = solve_times[arr]\n",
    "\n",
    "    #post-processing + write out\n",
    "    train_params = {}; test_params = {}\n",
    "    if 'x0' in sampled_params:\n",
    "        train_params['x0'] = params['x0'][:num_train,:]\n",
    "        test_params['x0'] = params['x0'][num_train:,:]\n",
    "    if 'obstacles' in sampled_params:\n",
    "        train_params['obstacles'] = params['obstacles'][:num_train,:]\n",
    "        test_params['obstacles'] = params['obstacles'][num_train:,:]\n",
    "    if 'xg' in sampled_params:\n",
    "        train_params['xg'] = params['xg'][:num_train,:]\n",
    "        test_params['xg'] = params['xg'][num_train:,:]\n",
    "\n",
    "    train_data = [train_params]\n",
    "    train_data += [X[:num_train,:,:], U[:num_train,:,:], Y[:num_train,:,:]]\n",
    "    train_data += [costs[:num_train], solve_times[:num_train]]\n",
    "\n",
    "    test_data = [test_params]\n",
    "    test_data += [X[num_train:,:,:], U[num_train:,:,:], Y[num_train:,:,:]]\n",
    "    test_data += [costs[num_train:], solve_times[num_train:]]\n",
    "\n",
    "    train_file = open(train_fn,'wb')\n",
    "    pickle.dump(train_data,train_file); train_file.close()\n",
    "\n",
    "    test_file = open(test_fn, 'wb')\n",
    "    pickle.dump(test_data,test_file); test_file.close()\n",
    "    return"
   ]
  },
  {
   "cell_type": "code",
   "execution_count": 36,
   "metadata": {
    "collapsed": true,
    "jupyter": {
     "outputs_hidden": true
    }
   },
   "outputs": [
    {
     "name": "stdout",
     "output_type": "stream",
     "text": [
      "> <ipython-input-35-98f2498e0745>(175)generate_horizon()\n",
      "-> X[ii,:,:], U[ii,:,:], Y[ii,:,:] = optvals\n"
     ]
    },
    {
     "name": "stdin",
     "output_type": "stream",
     "text": [
      "(Pdb)  optvals\n"
     ]
    },
    {
     "name": "stdout",
     "output_type": "stream",
     "text": [
      "(array([[ 3.1135891 ,  2.98857574,  2.89615914,  2.8556713 ,  2.88223866,\n",
      "         2.97609068],\n",
      "       [ 0.80751142,  0.862935  ,  0.97700101,  1.12307831,  1.2730783 ,\n",
      "         1.42307828],\n",
      "       [-0.18545895, -0.14791001, -0.09853427, -0.00943329,  0.0802796 ,\n",
      "         0.16999243],\n",
      "       [ 0.03315967,  0.11463657,  0.18953946,  0.19999999,  0.19999999,\n",
      "         0.19999996]]), array([[ 5.00652524e-02,  6.58343280e-02,  1.18801294e-01,\n",
      "         1.19617192e-01,  1.19617112e-01],\n",
      "       [ 1.08635865e-01,  9.98705225e-02,  1.39473825e-02,\n",
      "        -5.46976400e-09, -3.55538763e-08]]), array([[0, 0, 0, 1, 1],\n",
      "       [1, 1, 1, 1, 1],\n",
      "       [1, 1, 1, 0, 0],\n",
      "       [1, 1, 1, 1, 1],\n",
      "       [0, 0, 0, 0, 0],\n",
      "       [1, 1, 1, 1, 1],\n",
      "       [1, 1, 1, 1, 1],\n",
      "       [1, 1, 1, 1, 1],\n",
      "       [0, 0, 0, 1, 1],\n",
      "       [1, 1, 1, 1, 1],\n",
      "       [1, 1, 1, 0, 0],\n",
      "       [1, 1, 1, 1, 1],\n",
      "       [0, 0, 0, 0, 0],\n",
      "       [1, 1, 1, 1, 1],\n",
      "       [1, 1, 1, 1, 1],\n",
      "       [1, 1, 1, 1, 1],\n",
      "       [0, 0, 0, 0, 0],\n",
      "       [1, 1, 1, 1, 1],\n",
      "       [1, 1, 1, 1, 1],\n",
      "       [1, 1, 1, 1, 1],\n",
      "       [0, 0, 0, 0, 0],\n",
      "       [1, 1, 1, 1, 1],\n",
      "       [1, 1, 1, 1, 1],\n",
      "       [1, 1, 1, 1, 1],\n",
      "       [0, 0, 0, 1, 1],\n",
      "       [1, 1, 1, 1, 1],\n",
      "       [1, 1, 1, 0, 0],\n",
      "       [1, 1, 1, 1, 1],\n",
      "       [0, 0, 0, 1, 1],\n",
      "       [1, 1, 1, 1, 1],\n",
      "       [1, 1, 1, 0, 0],\n",
      "       [1, 1, 1, 1, 1]]))\n"
     ]
    },
    {
     "name": "stdin",
     "output_type": "stream",
     "text": [
      "(Pdb)  optvals[0].shape\n"
     ]
    },
    {
     "name": "stdout",
     "output_type": "stream",
     "text": [
      "(4, 6)\n"
     ]
    },
    {
     "name": "stdin",
     "output_type": "stream",
     "text": [
      "(Pdb)  optvals[1].shape\n"
     ]
    },
    {
     "name": "stdout",
     "output_type": "stream",
     "text": [
      "(2, 5)\n"
     ]
    },
    {
     "name": "stdin",
     "output_type": "stream",
     "text": [
      "(Pdb)  optvals[2].shape\n"
     ]
    },
    {
     "name": "stdout",
     "output_type": "stream",
     "text": [
      "(32, 5)\n"
     ]
    },
    {
     "name": "stdin",
     "output_type": "stream",
     "text": [
      "(Pdb)  N\n"
     ]
    },
    {
     "name": "stdout",
     "output_type": "stream",
     "text": [
      "8\n"
     ]
    },
    {
     "name": "stdin",
     "output_type": "stream",
     "text": [
      "(Pdb)  q\n"
     ]
    },
    {
     "ename": "BdbQuit",
     "evalue": "",
     "output_type": "error",
     "traceback": [
      "\u001b[0;31m---------------------------------------------------------------------------\u001b[0m",
      "\u001b[0;31mBdbQuit\u001b[0m                                   Traceback (most recent call last)",
      "\u001b[0;32m<ipython-input-36-26acc547c63e>\u001b[0m in \u001b[0;36m<module>\u001b[0;34m\u001b[0m\n\u001b[0;32m----> 1\u001b[0;31m \u001b[0mgenerate_horizon\u001b[0m\u001b[0;34m(\u001b[0m\u001b[0;36m8\u001b[0m\u001b[0;34m)\u001b[0m\u001b[0;34m\u001b[0m\u001b[0m\n\u001b[0m",
      "\u001b[0;32m<ipython-input-35-98f2498e0745>\u001b[0m in \u001b[0;36mgenerate_horizon\u001b[0;34m(N, n_obs)\u001b[0m\n\u001b[1;32m    173\u001b[0m             \u001b[0mcosts\u001b[0m\u001b[0;34m[\u001b[0m\u001b[0mii\u001b[0m\u001b[0;34m]\u001b[0m \u001b[0;34m=\u001b[0m \u001b[0mcost\u001b[0m\u001b[0;34m;\u001b[0m \u001b[0msolve_times\u001b[0m\u001b[0;34m[\u001b[0m\u001b[0mii\u001b[0m\u001b[0;34m]\u001b[0m \u001b[0;34m=\u001b[0m \u001b[0msolve_time\u001b[0m\u001b[0;34m\u001b[0m\u001b[0m\n\u001b[1;32m    174\u001b[0m             \u001b[0mpdb\u001b[0m\u001b[0;34m.\u001b[0m\u001b[0mset_trace\u001b[0m\u001b[0;34m(\u001b[0m\u001b[0;34m)\u001b[0m\u001b[0;34m\u001b[0m\u001b[0m\n\u001b[0;32m--> 175\u001b[0;31m             \u001b[0mX\u001b[0m\u001b[0;34m[\u001b[0m\u001b[0mii\u001b[0m\u001b[0;34m,\u001b[0m\u001b[0;34m:\u001b[0m\u001b[0;34m,\u001b[0m\u001b[0;34m:\u001b[0m\u001b[0;34m]\u001b[0m\u001b[0;34m,\u001b[0m \u001b[0mU\u001b[0m\u001b[0;34m[\u001b[0m\u001b[0mii\u001b[0m\u001b[0;34m,\u001b[0m\u001b[0;34m:\u001b[0m\u001b[0;34m,\u001b[0m\u001b[0;34m:\u001b[0m\u001b[0;34m]\u001b[0m\u001b[0;34m,\u001b[0m \u001b[0mY\u001b[0m\u001b[0;34m[\u001b[0m\u001b[0mii\u001b[0m\u001b[0;34m,\u001b[0m\u001b[0;34m:\u001b[0m\u001b[0;34m,\u001b[0m\u001b[0;34m:\u001b[0m\u001b[0;34m]\u001b[0m \u001b[0;34m=\u001b[0m \u001b[0moptvals\u001b[0m\u001b[0;34m\u001b[0m\u001b[0m\n\u001b[0m\u001b[1;32m    176\u001b[0m             \u001b[0mii\u001b[0m \u001b[0;34m+=\u001b[0m \u001b[0;36m1\u001b[0m\u001b[0;34m\u001b[0m\u001b[0m\n\u001b[1;32m    177\u001b[0m             \u001b[0mii_obs\u001b[0m \u001b[0;34m+=\u001b[0m \u001b[0;36m1\u001b[0m\u001b[0;34m\u001b[0m\u001b[0m\n",
      "\u001b[0;32m<ipython-input-35-98f2498e0745>\u001b[0m in \u001b[0;36mgenerate_horizon\u001b[0;34m(N, n_obs)\u001b[0m\n\u001b[1;32m    173\u001b[0m             \u001b[0mcosts\u001b[0m\u001b[0;34m[\u001b[0m\u001b[0mii\u001b[0m\u001b[0;34m]\u001b[0m \u001b[0;34m=\u001b[0m \u001b[0mcost\u001b[0m\u001b[0;34m;\u001b[0m \u001b[0msolve_times\u001b[0m\u001b[0;34m[\u001b[0m\u001b[0mii\u001b[0m\u001b[0;34m]\u001b[0m \u001b[0;34m=\u001b[0m \u001b[0msolve_time\u001b[0m\u001b[0;34m\u001b[0m\u001b[0m\n\u001b[1;32m    174\u001b[0m             \u001b[0mpdb\u001b[0m\u001b[0;34m.\u001b[0m\u001b[0mset_trace\u001b[0m\u001b[0;34m(\u001b[0m\u001b[0;34m)\u001b[0m\u001b[0;34m\u001b[0m\u001b[0m\n\u001b[0;32m--> 175\u001b[0;31m             \u001b[0mX\u001b[0m\u001b[0;34m[\u001b[0m\u001b[0mii\u001b[0m\u001b[0;34m,\u001b[0m\u001b[0;34m:\u001b[0m\u001b[0;34m,\u001b[0m\u001b[0;34m:\u001b[0m\u001b[0;34m]\u001b[0m\u001b[0;34m,\u001b[0m \u001b[0mU\u001b[0m\u001b[0;34m[\u001b[0m\u001b[0mii\u001b[0m\u001b[0;34m,\u001b[0m\u001b[0;34m:\u001b[0m\u001b[0;34m,\u001b[0m\u001b[0;34m:\u001b[0m\u001b[0;34m]\u001b[0m\u001b[0;34m,\u001b[0m \u001b[0mY\u001b[0m\u001b[0;34m[\u001b[0m\u001b[0mii\u001b[0m\u001b[0;34m,\u001b[0m\u001b[0;34m:\u001b[0m\u001b[0;34m,\u001b[0m\u001b[0;34m:\u001b[0m\u001b[0;34m]\u001b[0m \u001b[0;34m=\u001b[0m \u001b[0moptvals\u001b[0m\u001b[0;34m\u001b[0m\u001b[0m\n\u001b[0m\u001b[1;32m    176\u001b[0m             \u001b[0mii\u001b[0m \u001b[0;34m+=\u001b[0m \u001b[0;36m1\u001b[0m\u001b[0;34m\u001b[0m\u001b[0m\n\u001b[1;32m    177\u001b[0m             \u001b[0mii_obs\u001b[0m \u001b[0;34m+=\u001b[0m \u001b[0;36m1\u001b[0m\u001b[0;34m\u001b[0m\u001b[0m\n",
      "\u001b[0;32m/usr/local/lib/python3.6/bdb.py\u001b[0m in \u001b[0;36mtrace_dispatch\u001b[0;34m(self, frame, event, arg)\u001b[0m\n\u001b[1;32m     46\u001b[0m             \u001b[0;32mreturn\u001b[0m \u001b[0;31m# None\u001b[0m\u001b[0;34m\u001b[0m\u001b[0m\n\u001b[1;32m     47\u001b[0m         \u001b[0;32mif\u001b[0m \u001b[0mevent\u001b[0m \u001b[0;34m==\u001b[0m \u001b[0;34m'line'\u001b[0m\u001b[0;34m:\u001b[0m\u001b[0;34m\u001b[0m\u001b[0m\n\u001b[0;32m---> 48\u001b[0;31m             \u001b[0;32mreturn\u001b[0m \u001b[0mself\u001b[0m\u001b[0;34m.\u001b[0m\u001b[0mdispatch_line\u001b[0m\u001b[0;34m(\u001b[0m\u001b[0mframe\u001b[0m\u001b[0;34m)\u001b[0m\u001b[0;34m\u001b[0m\u001b[0m\n\u001b[0m\u001b[1;32m     49\u001b[0m         \u001b[0;32mif\u001b[0m \u001b[0mevent\u001b[0m \u001b[0;34m==\u001b[0m \u001b[0;34m'call'\u001b[0m\u001b[0;34m:\u001b[0m\u001b[0;34m\u001b[0m\u001b[0m\n\u001b[1;32m     50\u001b[0m             \u001b[0;32mreturn\u001b[0m \u001b[0mself\u001b[0m\u001b[0;34m.\u001b[0m\u001b[0mdispatch_call\u001b[0m\u001b[0;34m(\u001b[0m\u001b[0mframe\u001b[0m\u001b[0;34m,\u001b[0m \u001b[0marg\u001b[0m\u001b[0;34m)\u001b[0m\u001b[0;34m\u001b[0m\u001b[0m\n",
      "\u001b[0;32m/usr/local/lib/python3.6/bdb.py\u001b[0m in \u001b[0;36mdispatch_line\u001b[0;34m(self, frame)\u001b[0m\n\u001b[1;32m     65\u001b[0m         \u001b[0;32mif\u001b[0m \u001b[0mself\u001b[0m\u001b[0;34m.\u001b[0m\u001b[0mstop_here\u001b[0m\u001b[0;34m(\u001b[0m\u001b[0mframe\u001b[0m\u001b[0;34m)\u001b[0m \u001b[0;32mor\u001b[0m \u001b[0mself\u001b[0m\u001b[0;34m.\u001b[0m\u001b[0mbreak_here\u001b[0m\u001b[0;34m(\u001b[0m\u001b[0mframe\u001b[0m\u001b[0;34m)\u001b[0m\u001b[0;34m:\u001b[0m\u001b[0;34m\u001b[0m\u001b[0m\n\u001b[1;32m     66\u001b[0m             \u001b[0mself\u001b[0m\u001b[0;34m.\u001b[0m\u001b[0muser_line\u001b[0m\u001b[0;34m(\u001b[0m\u001b[0mframe\u001b[0m\u001b[0;34m)\u001b[0m\u001b[0;34m\u001b[0m\u001b[0m\n\u001b[0;32m---> 67\u001b[0;31m             \u001b[0;32mif\u001b[0m \u001b[0mself\u001b[0m\u001b[0;34m.\u001b[0m\u001b[0mquitting\u001b[0m\u001b[0;34m:\u001b[0m \u001b[0;32mraise\u001b[0m \u001b[0mBdbQuit\u001b[0m\u001b[0;34m\u001b[0m\u001b[0m\n\u001b[0m\u001b[1;32m     68\u001b[0m         \u001b[0;32mreturn\u001b[0m \u001b[0mself\u001b[0m\u001b[0;34m.\u001b[0m\u001b[0mtrace_dispatch\u001b[0m\u001b[0;34m\u001b[0m\u001b[0m\n\u001b[1;32m     69\u001b[0m \u001b[0;34m\u001b[0m\u001b[0m\n",
      "\u001b[0;31mBdbQuit\u001b[0m: "
     ]
    }
   ],
   "source": [
    "generate_horizon(8)"
   ]
  },
  {
   "cell_type": "code",
   "execution_count": 14,
   "metadata": {},
   "outputs": [],
   "source": [
    "with concurrent.futures.ProcessPoolExecutor() as executor:\n",
    "    horizons = [12, 13, 14]\n",
    "    results = executor.map(generate_horizon, horizons)"
   ]
  },
  {
   "cell_type": "code",
   "execution_count": null,
   "metadata": {},
   "outputs": [],
   "source": [
    "train_file = open(train_fn,'rb')\n",
    "p, x, u, y, c, s = pickle.load(train_file); train_file.close()"
   ]
  },
  {
   "cell_type": "code",
   "execution_count": 232,
   "metadata": {},
   "outputs": [
    {
     "name": "stdout",
     "output_type": "stream",
     "text": [
      "10\n",
      "20\n",
      "30\n",
      "40\n",
      "50\n",
      "60\n",
      "70\n",
      "80\n",
      "90\n",
      "100\n"
     ]
    }
   ],
   "source": [
    "ii = 0\n",
    "little_R_costs = []\n",
    "big_R_costs = []\n",
    "while ii < 100:\n",
    "    if np.random.rand() < 0.5:\n",
    "        obstacles = \\\n",
    "            random_obs(n_obs, posmin, posmax, border_size, min_box_size, max_box_size)\n",
    "        x0 = findIC(obstacles, posmin, posmax, velmin, velmax)\n",
    "    else:\n",
    "        x0 = sample_dists['x0']()\n",
    "        obstacles = find_obs(x0, posmin, posmax, n_obs, ignore_intersection=False)\n",
    "    if len(obstacles) == 0:\n",
    "        continue\n",
    "\n",
    "    p_dict = {}\n",
    "    p_dict['obstacles'] = np.reshape(np.concatenate(obstacles, axis=0), (n_obs,4)).T\n",
    "    p_dict['x0'] = x0\n",
    "    p_dict['xg'] = sample_dists['xg']()\n",
    "\n",
    "    prob.Q = np.diag([2,2,1,1.])\n",
    "    prob.R = 10.*np.eye(2)\n",
    "    prob.init_bin_problem()\n",
    "    prob_success, cost, solve_time, optvals = prob.solve_micp(p_dict, solver=cp.MOSEK)\n",
    "    if not prob_success:\n",
    "        continue\n",
    "    little_R_costs += [solve_time]\n",
    "\n",
    "    prob.Q = np.diag([2.,2.,10.,10.])\n",
    "    prob.R = 1000.*np.eye(2)\n",
    "    prob.init_bin_problem()\n",
    "    prob_success, cost, solve_time, optvals = prob.solve_micp(p_dict, solver=cp.MOSEK)\n",
    "    big_R_costs += [solve_time]\n",
    "    ii += 1\n",
    "    if ii % 10 == 0:\n",
    "        print(ii)"
   ]
  },
  {
   "cell_type": "code",
   "execution_count": 233,
   "metadata": {},
   "outputs": [
    {
     "name": "stdout",
     "output_type": "stream",
     "text": [
      "0.896813759803772\n"
     ]
    }
   ],
   "source": [
    "print(np.mean(little_R_costs))"
   ]
  },
  {
   "cell_type": "code",
   "execution_count": 234,
   "metadata": {},
   "outputs": [
    {
     "name": "stdout",
     "output_type": "stream",
     "text": [
      "1.5720452189445495\n"
     ]
    }
   ],
   "source": [
    "print(np.mean(big_R_costs))"
   ]
  },
  {
   "cell_type": "code",
   "execution_count": 286,
   "metadata": {},
   "outputs": [
    {
     "data": {
      "text/plain": [
       "True"
      ]
     },
     "execution_count": 286,
     "metadata": {},
     "output_type": "execute_result"
    }
   ],
   "source": [
    "p_dict = {}\n",
    "obstacles = \\\n",
    "        random_obs(n_obs, posmin, posmax, border_size, min_box_size, max_box_size)\n",
    "x0 = findIC(obstacles, posmin, posmax, velmin, velmax)\n",
    "\n",
    "# x0 = sample_dists['x0']()\n",
    "# obstacles = find_obs(x0, posmin, posmax, n_obs, ignore_intersection=False)\n",
    "\n",
    "p_dict['obstacles'] = np.reshape(np.concatenate(obstacles, axis=0), (n_obs,4)).T\n",
    "p_dict['x0'] = x0\n",
    "p_dict['xg'] = sample_dists['xg']()\n",
    "\n",
    "prob_success, cost, solve_time, optvals = prob.solve_micp(p_dict, solver=cp.MOSEK)\n",
    "prob_success"
   ]
  },
  {
   "cell_type": "code",
   "execution_count": 279,
   "metadata": {},
   "outputs": [
    {
     "name": "stdout",
     "output_type": "stream",
     "text": [
      "123.54200003350908\n",
      "1.569735050201416\n"
     ]
    }
   ],
   "source": [
    "print(cost)\n",
    "print(solve_time)"
   ]
  },
  {
   "cell_type": "code",
   "execution_count": 283,
   "metadata": {},
   "outputs": [
    {
     "name": "stdout",
     "output_type": "stream",
     "text": [
      "129.12812876798583\n",
      "2.884990930557251\n"
     ]
    }
   ],
   "source": [
    "print(cost)\n",
    "print(solve_time)"
   ]
  },
  {
   "cell_type": "code",
   "execution_count": 285,
   "metadata": {},
   "outputs": [],
   "source": [
    "prob.Q = np.diag([2.,2.,10.,10.])\n",
    "prob.Q = np.diag([2,2,1,1.])\n",
    "\n",
    "prob.R = 10.*np.eye(2)\n",
    "prob.R\n",
    "prob.init_bin_problem()"
   ]
  },
  {
   "cell_type": "code",
   "execution_count": 280,
   "metadata": {},
   "outputs": [
    {
     "data": {
      "image/png": "[encoded data removed]",
      "text/plain": [
       "<Figure size 432x288 with 1 Axes>"
      ]
     },
     "metadata": {
      "needs_background": "light"
     },
     "output_type": "display_data"
    }
   ],
   "source": [
    "idx = np.random.randint(train_data[1].shape[0])\n",
    "\n",
    "Xopt = optvals[0]\n",
    "\n",
    "obstacles = []\n",
    "for ii_obs in range(n_obs):\n",
    "#     obs = train_data[0]['obstacles'][idx][:,ii_obs]\n",
    "    obs = p_dict['obstacles'][:,ii_obs]\n",
    "    obstacles.append(obs)\n",
    "\n",
    "# x0 = train_data[0]['x0'][idx]\n",
    "# x0 = findIC(obstacles, posmin, posmax, velmin, velmax)\n",
    "x0 = p_dict['x0']\n",
    "\n",
    "if len(obstacles) is n_obs:\n",
    "    plt.axes()\n",
    "    for obstacle in obstacles:\n",
    "        rectangle = plt.Rectangle((obstacle[0], obstacle[2]), \\\n",
    "                                  obstacle[1]-obstacle[0], obstacle[3]-obstacle[2], \\\n",
    "                                 fc='red', ec='blue')\n",
    "        plt.gca().add_patch(rectangle)\n",
    "        plt.axis('scaled')\n",
    "\n",
    "    circle = plt.Circle((x0[0],x0[1]), 0.04, fc='blue',ec=\"green\")\n",
    "    plt.gca().add_patch(circle)\n",
    "    plt.quiver(Xopt[0,:], Xopt[1,:], Xopt[2,:], Xopt[3,:])\n",
    "\n",
    "    ax = plt.gca()\n",
    "    ax.margins(0)\n",
    "    ax.set(xlim=(posmin[0],posmax[0]), ylim=(posmin[1],posmax[1]))\n",
    "    plt.show()"
   ]
  },
  {
   "cell_type": "code",
   "execution_count": 284,
   "metadata": {},
   "outputs": [
    {
     "data": {
      "image/png": "[encoded data removed]",
      "text/plain": [
       "<Figure size 432x288 with 1 Axes>"
      ]
     },
     "metadata": {
      "needs_background": "light"
     },
     "output_type": "display_data"
    }
   ],
   "source": [
    "idx = np.random.randint(train_data[1].shape[0])\n",
    "\n",
    "Xopt = optvals[0]\n",
    "\n",
    "obstacles = []\n",
    "for ii_obs in range(n_obs):\n",
    "#     obs = train_data[0]['obstacles'][idx][:,ii_obs]\n",
    "    obs = p_dict['obstacles'][:,ii_obs]\n",
    "    obstacles.append(obs)\n",
    "\n",
    "# x0 = train_data[0]['x0'][idx]\n",
    "# x0 = findIC(obstacles, posmin, posmax, velmin, velmax)\n",
    "x0 = p_dict['x0']\n",
    "\n",
    "if len(obstacles) is n_obs:\n",
    "    plt.axes()\n",
    "    for obstacle in obstacles:\n",
    "        rectangle = plt.Rectangle((obstacle[0], obstacle[2]), \\\n",
    "                                  obstacle[1]-obstacle[0], obstacle[3]-obstacle[2], \\\n",
    "                                 fc='red', ec='blue')\n",
    "        plt.gca().add_patch(rectangle)\n",
    "        plt.axis('scaled')\n",
    "\n",
    "    circle = plt.Circle((x0[0],x0[1]), 0.04, fc='blue',ec=\"green\")\n",
    "    plt.gca().add_patch(circle)\n",
    "    plt.quiver(Xopt[0,:], Xopt[1,:], Xopt[2,:], Xopt[3,:])\n",
    "\n",
    "    ax = plt.gca()\n",
    "    ax.margins(0)\n",
    "    ax.set(xlim=(posmin[0],posmax[0]), ylim=(posmin[1],posmax[1]))\n",
    "    plt.show()"
   ]
  },
  {
   "cell_type": "code",
   "execution_count": null,
   "metadata": {},
   "outputs": [],
   "source": [
    "# shitty = True\n",
    "# x0, obstacles = None, None\n",
    "# while shitty:\n",
    "#     obstacles = random_obs(n_obs, posmin, posmax, border_size, min_box_size, max_box_size)\n",
    "#     x0 = findIC(obstacles, posmin, posmax, velmin, velmax)\n",
    "#     if all([x0[0] <= obstacle[0] and x0[0] <= obstacle[1] and \\\n",
    "#                  x0[1] <= obstacle[2] and x0[1] <= obstacle[3] for obstacle in obstacles]):\n",
    "#         shitty = False\n",
    "# obstacles = random_obs(n_obs, posmin, posmax, border_size, min_box_size, max_box_size)\n",
    "# x0 = findIC(obstacles, posmin, posmax, velmin, velmax)\n",
    "\n",
    "# if len(obstacles) is n_obs:\n",
    "#     plt.axes()\n",
    "#     for obstacle in obstacles:\n",
    "#         rectangle = plt.Rectangle((obstacle[0], obstacle[2]), \\\n",
    "#                                   obstacle[1]-obstacle[0], obstacle[3]-obstacle[2], \\\n",
    "#                                  fc='red', ec='blue')\n",
    "#         plt.gca().add_patch(rectangle)\n",
    "#         plt.axis('scaled')\n",
    "\n",
    "#     circle = plt.Circle((x0[0],x0[1]), 0.04, fc='blue',ec=\"green\")\n",
    "#     plt.gca().add_patch(circle)   \n",
    "\n",
    "#     ax = plt.gca()\n",
    "#     ax.margins(0)\n",
    "#     ax.set(xlim=(posmin[0],posmax[0]), ylim=(posmin[1],posmax[1]))\n",
    "#     plt.show()"
   ]
  },
  {
   "cell_type": "code",
   "execution_count": null,
   "metadata": {},
   "outputs": [],
   "source": [
    "# prob.init_bin_problem()\n",
    "\n",
    "# p_dict = {}\n",
    "# p_dict['x0'] = x0\n",
    "# p_dict['obstacles'] = np.reshape(np.concatenate(obstacles, axis=0), (n_obs,4)).T\n",
    "# p_dict['xg'] = sample_dists['xg']()\n",
    "\n",
    "# prob_success, cost, solve_time, optvals = prob.solve_micp(p_dict)\n",
    "# prob_success"
   ]
  },
  {
   "cell_type": "code",
   "execution_count": null,
   "metadata": {},
   "outputs": [],
   "source": [
    "# X = optvals[0]\n",
    "\n",
    "# plt.axes()\n",
    "# for obstacle in obstacles:\n",
    "#     rectangle = plt.Rectangle((obstacle[0], obstacle[2]), \\\n",
    "#                               obstacle[1]-obstacle[0], obstacle[3]-obstacle[2], \\\n",
    "#                              fc='red', ec='blue')\n",
    "#     plt.gca().add_patch(rectangle)\n",
    "#     plt.axis('scaled')\n",
    "\n",
    "# for jj in range(N):\n",
    "#     circle = plt.Circle((X[0,jj],X[1,jj]), 0.04, fc='blue',ec=\"blue\")\n",
    "#     plt.gca().add_patch(circle)   \n",
    "    \n",
    "# xg = p_dict['xg']\n",
    "# circle = plt.Circle((xg[0],xg[1]), 0.04, fc='red',ec=\"red\")\n",
    "# plt.gca().add_patch(circle)   \n",
    "\n",
    "# ax = plt.gca()\n",
    "# ax.margins(0)\n",
    "# ax.set(xlim=(posmin[0],posmax[0]), ylim=(posmin[1],posmax[1]))\n",
    "# plt.show()"
   ]
  }
 ],
 "metadata": {
  "kernelspec": {
   "display_name": "mlopt",
   "language": "python",
   "name": "mlopt"
  },
  "language_info": {
   "codemirror_mode": {
    "name": "ipython",
    "version": 3
   },
   "file_extension": ".py",
   "mimetype": "text/x-python",
   "name": "python",
   "nbconvert_exporter": "python",
   "pygments_lexer": "ipython3",
   "version": "3.6.3"
  }
 },
 "nbformat": 4,
 "nbformat_minor": 4
}
