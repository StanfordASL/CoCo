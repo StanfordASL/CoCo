{
 "cells": [
  {
   "cell_type": "code",
   "execution_count": null,
   "metadata": {},
   "outputs": [],
   "source": [
    "%load_ext autoreload\n",
    "%autoreload 2\n",
    "\n",
    "import time\n",
    "import random\n",
    "import pickle, os\n",
    "import numpy as np\n",
    "import cvxpy as cp\n",
    "\n",
    "from copy import deepcopy\n",
    "\n",
    "import matplotlib.pyplot as plt\n",
    "%matplotlib inline\n",
    "\n",
    "import torch\n",
    "from torch.autograd import Variable\n",
    "from torch.utils.tensorboard import SummaryWriter\n",
    "\n",
    "from free_flyer.free_flyer import FreeFlyer\n",
    "from free_flyer.utils import *\n",
    "from solvers.mlopt_ff import MLOPT_FF\n",
    "from solvers.meta import Meta"
   ]
  },
  {
   "cell_type": "code",
   "execution_count": null,
   "metadata": {},
   "outputs": [],
   "source": [
    "#load train/test data\n",
    "prob = FreeFlyer() #use default config, pass different config file oth.\n",
    "config_fn = './free_flyer/config/default.p'\n",
    "\n",
    "config_file = open(config_fn,'rb')\n",
    "dataset_name, _, _ = pickle.load(config_file); config_file.close()\n",
    "\n",
    "relative_path = os.getcwd()\n",
    "dataset_fn = relative_path + '/free_flyer/data/' + dataset_name\n",
    "\n",
    "train_file = open(dataset_fn+'/train.p','rb')\n",
    "# p_train, x_train, u_train, y_train, c_train, times_train = pickle.load(train_file)\n",
    "train_data = pickle.load(train_file)\n",
    "train_file.close()\n",
    "x_train = train_data[1]\n",
    "y_train = train_data[3]\n",
    "\n",
    "test_file = open(dataset_fn+'/test.p','rb')\n",
    "# p_test, x_test, u_test, y_test, c_test, times_test = pickle.load(test_file)\n",
    "test_data = pickle.load(test_file)\n",
    "p_test, x_test, u_test, y_test, c_test, times_test = test_data\n",
    "test_file.close()\n",
    "\n",
    "n_test = x_test.shape[0]"
   ]
  },
  {
   "cell_type": "code",
   "execution_count": null,
   "metadata": {},
   "outputs": [],
   "source": [
    "system = 'free_flyer'\n",
    "prob_features = ['x0', 'obstacles_map']\n",
    "\n",
    "meta_learner = Meta(system, prob, prob_features)\n",
    "\n",
    "n_features = 4\n",
    "device_id= 1\n",
    "meta_learner.construct_strategies(n_features, train_data, device_id=device_id)"
   ]
  },
  {
   "cell_type": "code",
   "execution_count": null,
   "metadata": {},
   "outputs": [],
   "source": [
    "fn_saved = 'models/mloptff_free_flyer_20201103_1353.pt'\n",
    "meta_learner.load_network(fn_saved, False)\n",
    "\n",
    "meta_learner.model_fn"
   ]
  },
  {
   "cell_type": "code",
   "execution_count": null,
   "metadata": {},
   "outputs": [],
   "source": [
    "meta_learner.train(train_data, \"runs/train_step\")"
   ]
  },
  {
   "cell_type": "code",
   "execution_count": null,
   "metadata": {},
   "outputs": [],
   "source": [
    "meta_learner.finetuning(test_data, \"runs/finetunning\")"
   ]
  },
  {
   "cell_type": "code",
   "execution_count": null,
   "metadata": {},
   "outputs": [],
   "source": [
    "# def train_meta(update_lr, meta_lr, device_id):\n",
    "#     system = 'free_flyer'\n",
    "#     prob_features = ['x0', 'obstacles_map']\n",
    "\n",
    "#     meta_learner = Meta(system, prob, prob_features)\n",
    "\n",
    "#     n_features = 4\n",
    "#     meta_learner.construct_strategies(n_features, train_data, device_id=device_id)\n",
    "\n",
    "#     fn_saved = 'models/mloptff_free_flyer_20201103_1353.pt'\n",
    "#     meta_learner.load_network(fn_saved, False)\n",
    "#     print('meta_learner fn: {}'.format(meta_learner.model_fn))\n",
    "\n",
    "#     print('Meta lr: {}'.format(meta_lr))\n",
    "#     print('Update lr: {}'.format(update_lr))\n",
    "#     meta_learner.update_lr = update_lr\n",
    "#     meta_learner.meta_lr = meta_lr\n",
    "    \n",
    "#     writer_fn = 'runs/update_{}_meta_{}'.format(int(round(-100.*np.log10(meta_learner.update_lr))), int(round(-100.*np.log10(meta_learner.meta_lr))))\n",
    "\n",
    "#     meta_learner.train(train_data, writer_fn, verbose=True)"
   ]
  },
  {
   "cell_type": "code",
   "execution_count": null,
   "metadata": {},
   "outputs": [],
   "source": [
    "# # import multiprocessing\n",
    "\n",
    "# # processes = []\n",
    "# # for tup in tups:\n",
    "# #     update_lr, meta_lr, device_id = tup\n",
    "# #     p = multiprocessing.Process(target=train_meta, args=[update_lr, meta_lr, device_id])\n",
    "\n",
    "# #     p.start()\n",
    "# #     processes.append(p)\n",
    "    \n",
    "# # for p in processes:\n",
    "# #     p.join()\n",
    "\n",
    "# ctr = 1\n",
    "# device_id = 1\n",
    "# for meta_lr in [5e-4, 1e-4, 5e-5]:\n",
    "#     for update_lr in [1e-5, 5e-6, 1e-6]:\n",
    "#         dump_fn = './training_logs/training_{}.txt'.format(ctr)\n",
    "#         file = open(dump_fn,'w')\n",
    "#         file.write('On meta_lr {}\\n'.format(meta_lr))\n",
    "#         file.write('On update_lr {}\\n'.format(update_lr))\n",
    "#         file.close()\n",
    "#         train_meta(update_lr, meta_lr, device_id)\n",
    "#         dump_fn = './training_logs/training_{}.txt'.format(ctr)\n",
    "#         file = open(dump_fn,'w')\n",
    "#         file.write('On meta_lr {}\\n'.format(meta_lr))\n",
    "#         file.write('On update_lr {}\\n'.format(update_lr))\n",
    "#         file.write('Done')\n",
    "#         file.close()\n",
    "#         ctr += 1"
   ]
  }
 ],
 "metadata": {
  "kernelspec": {
   "display_name": "mlopt",
   "language": "python",
   "name": "mlopt"
  },
  "language_info": {
   "codemirror_mode": {
    "name": "ipython",
    "version": 3
   },
   "file_extension": ".py",
   "mimetype": "text/x-python",
   "name": "python",
   "nbconvert_exporter": "python",
   "pygments_lexer": "ipython3",
   "version": "3.6.3"
  }
 },
 "nbformat": 4,
 "nbformat_minor": 4
}
