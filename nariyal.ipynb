{
 "cells": [
  {
   "cell_type": "code",
   "execution_count": null,
   "metadata": {},
   "outputs": [],
   "source": [
    "%load_ext autoreload\n",
    "%autoreload 2\n",
    "\n",
    "import time\n",
    "import random\n",
    "import pickle, os\n",
    "import numpy as np\n",
    "import cvxpy as cp\n",
    "\n",
    "from copy import deepcopy\n",
    "\n",
    "import matplotlib.pyplot as plt\n",
    "%matplotlib inline\n",
    "\n",
    "import torch\n",
    "from torch.autograd import Variable\n",
    "from torch.utils.tensorboard import SummaryWriter\n",
    "\n",
    "from free_flyer.free_flyer import FreeFlyer\n",
    "from free_flyer.utils import *\n",
    "from solvers.coco_ff import CoCo_FF\n",
    "from solvers.meta_ff import Meta_FF"
   ]
  },
  {
   "cell_type": "code",
   "execution_count": null,
   "metadata": {},
   "outputs": [],
   "source": [
    "#load train/test data\n",
    "prob = FreeFlyer() #use default config, pass different config file oth.\n",
    "config_fn = './free_flyer/config/default.p'\n",
    "\n",
    "config_file = open(config_fn,'rb')\n",
    "dataset_name, _, _ = pickle.load(config_file); config_file.close()\n",
    "\n",
    "relative_path = os.getcwd()\n",
    "dataset_fn = relative_path + '/free_flyer/data/' + dataset_name\n",
    "\n",
    "train_file = open(dataset_fn+'/train.p','rb')\n",
    "# p_train, x_train, u_train, y_train, c_train, times_train = pickle.load(train_file)\n",
    "train_data = pickle.load(train_file)\n",
    "train_file.close()\n",
    "x_train = train_data[1]\n",
    "y_train = train_data[3]\n",
    "\n",
    "test_file = open(dataset_fn+'/test.p','rb')\n",
    "# p_test, x_test, u_test, y_test, c_test, times_test = pickle.load(test_file)\n",
    "test_data = pickle.load(test_file)\n",
    "p_test, x_test, u_test, y_test, c_test, times_test = test_data\n",
    "test_file.close()\n",
    "\n",
    "n_test = x_test.shape[0]"
   ]
  },
  {
   "cell_type": "code",
   "execution_count": null,
   "metadata": {},
   "outputs": [],
   "source": [
    "system = 'free_flyer'\n",
    "prob_features = ['x0', 'obstacles_map']\n",
    "\n",
    "meta_learner = Meta_FF(system, prob, prob_features)\n",
    "\n",
    "n_features = 4\n",
    "device_id= 0\n",
    "meta_learner.construct_strategies(n_features, train_data, device_id=device_id)"
   ]
  },
  {
   "cell_type": "code",
   "execution_count": null,
   "metadata": {},
   "outputs": [],
   "source": [
    "coco_model_fn = 'models/CoCoFF_free_flyer_20210406_0808.pt'\n",
    "feas_model_fn = 'None'\n",
    "\n",
    "# coco_model_fn = 'MetaCoCoFF_free_flyer_20210426_1258.pt'\n",
    "# feas_model_fn = 'MetaCoCoFF_feas_free_flyer_20210426_1258.pt'\n",
    "\n",
    "meta_learner.load_network(coco_model_fn, False, feas_model_fn=feas_model_fn)\n",
    "\n",
    "meta_learner.model_fn"
   ]
  },
  {
   "cell_type": "code",
   "execution_count": null,
   "metadata": {},
   "outputs": [],
   "source": [
    "meta_learner.training_params['CHECKPOINT_AFTER'] = int(50)\n",
    "meta_learner.training_params['SAVEPOINT_AFTER'] = int(100)\n",
    "meta_learner.update_lr = 1e-5\n",
    "meta_learner.update_step = 2\n",
    "\n",
    "meta_learner.train(train_data, \"runs/free_flyer_update\")\n",
    "# meta_learner.finetuning(test_data, \"runs/finetunning\")"
   ]
  },
  {
   "cell_type": "code",
   "execution_count": null,
   "metadata": {},
   "outputs": [],
   "source": [
    "successes = []\n",
    "prob_params_list = []\n",
    "for itr in range(100):\n",
    "    for _ in range(20):\n",
    "        ii = np.random.randint(0,n_test)\n",
    "        prob_params = {}\n",
    "        for k in p_test.keys():\n",
    "            prob_params[k] = p_test[k][ii]\n",
    "        prob_params_list.append(prob_params)\n",
    "    prob_successes = meta_learner.forward(prob_params_list)[0]\n",
    "    successes.append(np.sum(prob_successes) / float(len(prob_successes)))\n",
    "    print('Done with iteration {}: {}\\n'.format(itr, successes[-1]))"
   ]
  },
  {
   "cell_type": "code",
   "execution_count": null,
   "metadata": {},
   "outputs": [],
   "source": []
  }
 ],
 "metadata": {
  "kernelspec": {
   "display_name": "mlopt",
   "language": "python",
   "name": "mlopt"
  },
  "language_info": {
   "codemirror_mode": {
    "name": "ipython",
    "version": 3
   },
   "file_extension": ".py",
   "mimetype": "text/x-python",
   "name": "python",
   "nbconvert_exporter": "python",
   "pygments_lexer": "ipython3",
   "version": "3.6.3"
  }
 },
 "nbformat": 4,
 "nbformat_minor": 4
}
