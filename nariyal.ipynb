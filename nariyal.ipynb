{
 "cells": [
  {
   "cell_type": "code",
   "execution_count": 1,
   "metadata": {},
   "outputs": [],
   "source": [
    "%load_ext autoreload\n",
    "%autoreload 2\n",
    "\n",
    "import time\n",
    "import random\n",
    "import pickle, os\n",
    "import numpy as np\n",
    "import cvxpy as cp\n",
    "\n",
    "from copy import deepcopy\n",
    "\n",
    "import matplotlib.pyplot as plt\n",
    "%matplotlib inline\n",
    "\n",
    "import torch\n",
    "from torch.autograd import Variable\n",
    "from torch.utils.tensorboard import SummaryWriter\n",
    "\n",
    "from free_flyer.free_flyer import FreeFlyer\n",
    "from free_flyer.utils import *\n",
    "from solvers.mlopt_ff import MLOPT_FF\n",
    "from solvers.meta import Meta"
   ]
  },
  {
   "cell_type": "code",
   "execution_count": 2,
   "metadata": {},
   "outputs": [],
   "source": [
    "#load train/test data\n",
    "prob = FreeFlyer() #use default config, pass different config file oth.\n",
    "config_fn = './free_flyer/config/default.p'\n",
    "\n",
    "config_file = open(config_fn,'rb')\n",
    "dataset_name, _, _ = pickle.load(config_file); config_file.close()\n",
    "\n",
    "relative_path = os.getcwd()\n",
    "dataset_fn = relative_path + '/free_flyer/data/' + dataset_name\n",
    "\n",
    "train_file = open(dataset_fn+'/train.p','rb')\n",
    "# p_train, x_train, u_train, y_train, c_train, times_train = pickle.load(train_file)\n",
    "train_data = pickle.load(train_file)\n",
    "train_file.close()\n",
    "x_train = train_data[1]\n",
    "y_train = train_data[3]\n",
    "\n",
    "test_file = open(dataset_fn+'/test.p','rb')\n",
    "# p_test, x_test, u_test, y_test, c_test, times_test = pickle.load(test_file)\n",
    "test_data = pickle.load(test_file)\n",
    "p_test, x_test, u_test, y_test, c_test, times_test = test_data\n",
    "test_file.close()\n",
    "\n",
    "n_test = x_test.shape[0]"
   ]
  },
  {
   "cell_type": "code",
   "execution_count": 3,
   "metadata": {},
   "outputs": [],
   "source": [
    "system = 'free_flyer'\n",
    "prob_features = ['x0', 'obstacles_map']\n",
    "\n",
    "meta_learner = Meta(system, prob, prob_features)\n",
    "\n",
    "n_features = 4\n",
    "device_id= 1\n",
    "meta_learner.construct_strategies(n_features, train_data, device_id=device_id)"
   ]
  },
  {
   "cell_type": "code",
   "execution_count": 4,
   "metadata": {},
   "outputs": [
    {
     "data": {
      "text/plain": [
       "CNNet(\n",
       "  (conv_activation): ReLU()\n",
       "  (ff_activation): ReLU()\n",
       "  (vars): ParameterList(\n",
       "      (0): Parameter containing: [torch.cuda.FloatTensor of size 16x3x2x2 (GPU 1)]\n",
       "      (1): Parameter containing: [torch.cuda.FloatTensor of size 16 (GPU 1)]\n",
       "      (2): Parameter containing: [torch.cuda.FloatTensor of size 16x16x2x2 (GPU 1)]\n",
       "      (3): Parameter containing: [torch.cuda.FloatTensor of size 16 (GPU 1)]\n",
       "      (4): Parameter containing: [torch.cuda.FloatTensor of size 16x16x2x2 (GPU 1)]\n",
       "      (5): Parameter containing: [torch.cuda.FloatTensor of size 16 (GPU 1)]\n",
       "      (6): Parameter containing: [torch.cuda.FloatTensor of size 128x260 (GPU 1)]\n",
       "      (7): Parameter containing: [torch.cuda.FloatTensor of size 128 (GPU 1)]\n",
       "      (8): Parameter containing: [torch.cuda.FloatTensor of size 128x128 (GPU 1)]\n",
       "      (9): Parameter containing: [torch.cuda.FloatTensor of size 128 (GPU 1)]\n",
       "      (10): Parameter containing: [torch.cuda.FloatTensor of size 128x128 (GPU 1)]\n",
       "      (11): Parameter containing: [torch.cuda.FloatTensor of size 128 (GPU 1)]\n",
       "      (12): Parameter containing: [torch.cuda.FloatTensor of size 458x128 (GPU 1)]\n",
       "      (13): Parameter containing: [torch.cuda.FloatTensor of size 458 (GPU 1)]\n",
       "  )\n",
       ")"
      ]
     },
     "execution_count": 4,
     "metadata": {},
     "output_type": "execute_result"
    }
   ],
   "source": [
    "meta_learner.model"
   ]
  },
  {
   "cell_type": "code",
   "execution_count": 5,
   "metadata": {},
   "outputs": [
    {
     "name": "stdout",
     "output_type": "stream",
     "text": [
      "Loading presaved classifier model from models/mloptff_free_flyer_20201103_1353.pt\n"
     ]
    },
    {
     "data": {
      "text/plain": [
       "'/home/acauligi/cs_234/project/mlopt-micp/MetaCoCoFF_free_flyer_20201108_2056.pt'"
      ]
     },
     "execution_count": 5,
     "metadata": {},
     "output_type": "execute_result"
    }
   ],
   "source": [
    "fn_saved = 'models/mloptff_free_flyer_20201103_1353.pt'\n",
    "meta_learner.load_network(fn_saved, False)\n",
    "\n",
    "meta_learner.model_fn"
   ]
  },
  {
   "cell_type": "code",
   "execution_count": 7,
   "metadata": {},
   "outputs": [
    {
     "name": "stdout",
     "output_type": "stream",
     "text": [
      "Got to iteration 1\n",
      "\n",
      "Got to iteration 2\n",
      "\n"
     ]
    },
    {
     "ename": "RuntimeError",
     "evalue": "One of the differentiated Tensors does not require grad",
     "output_type": "error",
     "traceback": [
      "\u001b[0;31m---------------------------------------------------------------------------\u001b[0m",
      "\u001b[0;31mRuntimeError\u001b[0m                              Traceback (most recent call last)",
      "\u001b[0;32m<ipython-input-7-44f042b0ea91>\u001b[0m in \u001b[0;36m<module>\u001b[0;34m\u001b[0m\n\u001b[0;32m----> 1\u001b[0;31m \u001b[0mmeta_learner\u001b[0m\u001b[0;34m.\u001b[0m\u001b[0mtrain\u001b[0m\u001b[0;34m(\u001b[0m\u001b[0mtrain_data\u001b[0m\u001b[0;34m,\u001b[0m \u001b[0;34m\"runs/asdfasdf\"\u001b[0m\u001b[0;34m)\u001b[0m\u001b[0;34m\u001b[0m\u001b[0m\n\u001b[0m",
      "\u001b[0;32m~/cs_234/project/mlopt-micp/solvers/meta.py\u001b[0m in \u001b[0;36mtrain\u001b[0;34m(self, train_data, summary_writer_fn, verbose)\u001b[0m\n\u001b[1;32m    223\u001b[0m \u001b[0;34m\u001b[0m\u001b[0m\n\u001b[1;32m    224\u001b[0m                     \u001b[0;31m# Descent step on feas_model network weights\u001b[0m\u001b[0;34m\u001b[0m\u001b[0;34m\u001b[0m\u001b[0m\n\u001b[0;32m--> 225\u001b[0;31m                     \u001b[0mgrad\u001b[0m \u001b[0;34m=\u001b[0m \u001b[0mtorch\u001b[0m\u001b[0;34m.\u001b[0m\u001b[0mautograd\u001b[0m\u001b[0;34m.\u001b[0m\u001b[0mgrad\u001b[0m\u001b[0;34m(\u001b[0m\u001b[0minner_loss\u001b[0m\u001b[0;34m,\u001b[0m \u001b[0mfast_weights\u001b[0m\u001b[0;34m,\u001b[0m \u001b[0mcreate_graph\u001b[0m\u001b[0;34m=\u001b[0m\u001b[0;32mTrue\u001b[0m\u001b[0;34m)\u001b[0m\u001b[0;34m\u001b[0m\u001b[0m\n\u001b[0m\u001b[1;32m    226\u001b[0m                     \u001b[0mfast_weights\u001b[0m \u001b[0;34m=\u001b[0m \u001b[0mlist\u001b[0m\u001b[0;34m(\u001b[0m\u001b[0mmap\u001b[0m\u001b[0;34m(\u001b[0m\u001b[0;32mlambda\u001b[0m \u001b[0mp\u001b[0m\u001b[0;34m:\u001b[0m \u001b[0mp\u001b[0m\u001b[0;34m[\u001b[0m\u001b[0;36m1\u001b[0m\u001b[0;34m]\u001b[0m \u001b[0;34m-\u001b[0m \u001b[0mself\u001b[0m\u001b[0;34m.\u001b[0m\u001b[0mupdate_lr\u001b[0m \u001b[0;34m*\u001b[0m \u001b[0mp\u001b[0m\u001b[0;34m[\u001b[0m\u001b[0;36m0\u001b[0m\u001b[0;34m]\u001b[0m\u001b[0;34m,\u001b[0m \u001b[0mzip\u001b[0m\u001b[0;34m(\u001b[0m\u001b[0mgrad\u001b[0m\u001b[0;34m,\u001b[0m \u001b[0mfast_weights\u001b[0m\u001b[0;34m)\u001b[0m\u001b[0;34m)\u001b[0m\u001b[0;34m)\u001b[0m\u001b[0;34m\u001b[0m\u001b[0m\n\u001b[1;32m    227\u001b[0m \u001b[0;34m\u001b[0m\u001b[0m\n",
      "\u001b[0;32m~/cs_234/project/mlopt-micp/mlopt/lib/python3.6/site-packages/torch/autograd/__init__.py\u001b[0m in \u001b[0;36mgrad\u001b[0;34m(outputs, inputs, grad_outputs, retain_graph, create_graph, only_inputs, allow_unused)\u001b[0m\n\u001b[1;32m    190\u001b[0m     return Variable._execution_engine.run_backward(\n\u001b[1;32m    191\u001b[0m         \u001b[0moutputs\u001b[0m\u001b[0;34m,\u001b[0m \u001b[0mgrad_outputs\u001b[0m\u001b[0;34m,\u001b[0m \u001b[0mretain_graph\u001b[0m\u001b[0;34m,\u001b[0m \u001b[0mcreate_graph\u001b[0m\u001b[0;34m,\u001b[0m\u001b[0;34m\u001b[0m\u001b[0m\n\u001b[0;32m--> 192\u001b[0;31m         inputs, allow_unused)\n\u001b[0m\u001b[1;32m    193\u001b[0m \u001b[0;34m\u001b[0m\u001b[0m\n\u001b[1;32m    194\u001b[0m \u001b[0;34m\u001b[0m\u001b[0m\n",
      "\u001b[0;31mRuntimeError\u001b[0m: One of the differentiated Tensors does not require grad"
     ]
    }
   ],
   "source": [
    "meta_lsearner.train(train_data, \"runs/asdfasdf\")"
   ]
  },
  {
   "cell_type": "code",
   "execution_count": null,
   "metadata": {},
   "outputs": [],
   "source": [
    "meta_learner.train(train_data, \"runs/asdfasdf\")"
   ]
  },
  {
   "cell_type": "code",
   "execution_count": null,
   "metadata": {},
   "outputs": [],
   "source": [
    "meta_learner.finetuning(test_data, \"runs/finetunning\")"
   ]
  },
  {
   "cell_type": "code",
   "execution_count": null,
   "metadata": {},
   "outputs": [],
   "source": [
    "coco_last_layer = list(meta_learner.model.parameters())[-2:]\n",
    "shared_params = list(meta_learner.model.parameters())[:-2]\n",
    "len(list(shared_params + coco_last_layer))"
   ]
  },
  {
   "cell_type": "code",
   "execution_count": null,
   "metadata": {},
   "outputs": [],
   "source": [
    "# def train_meta(update_lr, meta_lr, device_id):\n",
    "#     system = 'free_flyer'\n",
    "#     prob_features = ['x0', 'obstacles_map']\n",
    "\n",
    "#     meta_learner = Meta(system, prob, prob_features)\n",
    "\n",
    "#     n_features = 4\n",
    "#     meta_learner.construct_strategies(n_features, train_data, device_id=device_id)\n",
    "\n",
    "#     fn_saved = 'models/mloptff_free_flyer_20201103_1353.pt'\n",
    "#     meta_learner.load_network(fn_saved, False)\n",
    "#     print('meta_learner fn: {}'.format(meta_learner.model_fn))\n",
    "\n",
    "#     print('Meta lr: {}'.format(meta_lr))\n",
    "#     print('Update lr: {}'.format(update_lr))\n",
    "#     meta_learner.update_lr = update_lr\n",
    "#     meta_learner.meta_lr = meta_lr\n",
    "    \n",
    "#     writer_fn = 'runs/update_{}_meta_{}'.format(int(round(-100.*np.log10(meta_learner.update_lr))), int(round(-100.*np.log10(meta_learner.meta_lr))))\n",
    "\n",
    "#     meta_learner.train(train_data, writer_fn, verbose=True)"
   ]
  },
  {
   "cell_type": "code",
   "execution_count": null,
   "metadata": {},
   "outputs": [],
   "source": [
    "# # import multiprocessing\n",
    "\n",
    "# # processes = []\n",
    "# # for tup in tups:\n",
    "# #     update_lr, meta_lr, device_id = tup\n",
    "# #     p = multiprocessing.Process(target=train_meta, args=[update_lr, meta_lr, device_id])\n",
    "\n",
    "# #     p.start()\n",
    "# #     processes.append(p)\n",
    "    \n",
    "# # for p in processes:\n",
    "# #     p.join()\n",
    "\n",
    "# ctr = 1\n",
    "# device_id = 1\n",
    "# for meta_lr in [5e-4, 1e-4, 5e-5]:\n",
    "#     for update_lr in [1e-5, 5e-6, 1e-6]:\n",
    "#         dump_fn = './training_logs/training_{}.txt'.format(ctr)\n",
    "#         file = open(dump_fn,'w')\n",
    "#         file.write('On meta_lr {}\\n'.format(meta_lr))\n",
    "#         file.write('On update_lr {}\\n'.format(update_lr))\n",
    "#         file.close()\n",
    "#         train_meta(update_lr, meta_lr, device_id)\n",
    "#         dump_fn = './training_logs/training_{}.txt'.format(ctr)\n",
    "#         file = open(dump_fn,'w')\n",
    "#         file.write('On meta_lr {}\\n'.format(meta_lr))\n",
    "#         file.write('On update_lr {}\\n'.format(update_lr))\n",
    "#         file.write('Done')\n",
    "#         file.close()\n",
    "#         ctr += 1"
   ]
  }
 ],
 "metadata": {
  "kernelspec": {
   "display_name": "mlopt",
   "language": "python",
   "name": "mlopt"
  },
  "language_info": {
   "codemirror_mode": {
    "name": "ipython",
    "version": 3
   },
   "file_extension": ".py",
   "mimetype": "text/x-python",
   "name": "python",
   "nbconvert_exporter": "python",
   "pygments_lexer": "ipython3",
   "version": "3.6.3"
  }
 },
 "nbformat": 4,
 "nbformat_minor": 4
}
